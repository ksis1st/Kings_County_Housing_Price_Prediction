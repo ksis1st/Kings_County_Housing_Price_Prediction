{
 "cells": [
  {
   "cell_type": "markdown",
   "metadata": {},
   "source": [
    "### Expanding EDA  \n",
    "* Engineer and transform the features and the target variable\n",
    "* Set base to Build a model\n",
    "* Further make and submit predictions"
   ]
  },
  {
   "cell_type": "code",
   "execution_count": 2,
   "metadata": {
    "ExecuteTime": {
     "end_time": "2020-10-28T03:30:16.071145Z",
     "start_time": "2020-10-28T03:30:06.000440Z"
    }
   },
   "outputs": [],
   "source": [
    "import pandas as pd \n",
    "import numpy as np\n",
    "import seaborn as sns \n",
    "import matplotlib.pyplot as plt \n",
    "import os\n",
    "%matplotlib inline \n",
    "pd.pandas.set_option('display.max_columns', None)\n",
    "import statsmodels.api as sm\n",
    "import statsmodels.stats.api as sms\n",
    "import statsmodels.formula.api as smf\n",
    "from statsmodels.formula.api import ols\n",
    "from statsmodels.stats.outliers_influence import variance_inflation_factor\n",
    "import scipy.stats as stats\n"
   ]
  },
  {
   "cell_type": "code",
   "execution_count": 3,
   "metadata": {
    "ExecuteTime": {
     "end_time": "2020-10-28T03:30:16.430247Z",
     "start_time": "2020-10-28T03:30:16.080095Z"
    }
   },
   "outputs": [
    {
     "data": {
      "text/html": [
       "<div>\n",
       "<style scoped>\n",
       "    .dataframe tbody tr th:only-of-type {\n",
       "        vertical-align: middle;\n",
       "    }\n",
       "\n",
       "    .dataframe tbody tr th {\n",
       "        vertical-align: top;\n",
       "    }\n",
       "\n",
       "    .dataframe thead th {\n",
       "        text-align: right;\n",
       "    }\n",
       "</style>\n",
       "<table border=\"1\" class=\"dataframe\">\n",
       "  <thead>\n",
       "    <tr style=\"text-align: right;\">\n",
       "      <th></th>\n",
       "      <th>id</th>\n",
       "      <th>price</th>\n",
       "      <th>bedrooms</th>\n",
       "      <th>bathrooms</th>\n",
       "      <th>sqft_living</th>\n",
       "      <th>sqft_lot</th>\n",
       "      <th>floors</th>\n",
       "      <th>waterfront</th>\n",
       "      <th>view</th>\n",
       "      <th>condition</th>\n",
       "      <th>grade</th>\n",
       "      <th>sqft_above</th>\n",
       "      <th>sqft_basement</th>\n",
       "      <th>yr_built</th>\n",
       "      <th>yr_renovated</th>\n",
       "      <th>zipcode</th>\n",
       "      <th>lat</th>\n",
       "      <th>long</th>\n",
       "      <th>sqft_living15</th>\n",
       "      <th>sqft_lot15</th>\n",
       "      <th>year</th>\n",
       "      <th>month</th>\n",
       "      <th>day</th>\n",
       "      <th>yr_age_of_house</th>\n",
       "      <th>yr_age_of_renovation</th>\n",
       "      <th>price_in_millions</th>\n",
       "    </tr>\n",
       "  </thead>\n",
       "  <tbody>\n",
       "    <tr>\n",
       "      <td>0</td>\n",
       "      <td>7129300520</td>\n",
       "      <td>221900.0</td>\n",
       "      <td>3</td>\n",
       "      <td>1.00</td>\n",
       "      <td>1180</td>\n",
       "      <td>5650</td>\n",
       "      <td>1.0</td>\n",
       "      <td>0.0</td>\n",
       "      <td>0.0</td>\n",
       "      <td>3</td>\n",
       "      <td>7</td>\n",
       "      <td>1180</td>\n",
       "      <td>0.0</td>\n",
       "      <td>1955</td>\n",
       "      <td>1951.0</td>\n",
       "      <td>98178</td>\n",
       "      <td>47.5112</td>\n",
       "      <td>-122.257</td>\n",
       "      <td>1340</td>\n",
       "      <td>5650</td>\n",
       "      <td>2014</td>\n",
       "      <td>10</td>\n",
       "      <td>13</td>\n",
       "      <td>59</td>\n",
       "      <td>0.0</td>\n",
       "      <td>0.2219</td>\n",
       "    </tr>\n",
       "    <tr>\n",
       "      <td>1</td>\n",
       "      <td>6414100192</td>\n",
       "      <td>538000.0</td>\n",
       "      <td>3</td>\n",
       "      <td>2.25</td>\n",
       "      <td>2570</td>\n",
       "      <td>7242</td>\n",
       "      <td>2.0</td>\n",
       "      <td>0.0</td>\n",
       "      <td>0.0</td>\n",
       "      <td>3</td>\n",
       "      <td>7</td>\n",
       "      <td>2170</td>\n",
       "      <td>400.0</td>\n",
       "      <td>1951</td>\n",
       "      <td>1991.0</td>\n",
       "      <td>98125</td>\n",
       "      <td>47.7210</td>\n",
       "      <td>-122.319</td>\n",
       "      <td>1690</td>\n",
       "      <td>7639</td>\n",
       "      <td>2014</td>\n",
       "      <td>12</td>\n",
       "      <td>9</td>\n",
       "      <td>63</td>\n",
       "      <td>40.0</td>\n",
       "      <td>0.5380</td>\n",
       "    </tr>\n",
       "    <tr>\n",
       "      <td>2</td>\n",
       "      <td>5631500400</td>\n",
       "      <td>180000.0</td>\n",
       "      <td>2</td>\n",
       "      <td>1.00</td>\n",
       "      <td>770</td>\n",
       "      <td>10000</td>\n",
       "      <td>1.0</td>\n",
       "      <td>0.0</td>\n",
       "      <td>0.0</td>\n",
       "      <td>3</td>\n",
       "      <td>6</td>\n",
       "      <td>770</td>\n",
       "      <td>0.0</td>\n",
       "      <td>1933</td>\n",
       "      <td>1933.0</td>\n",
       "      <td>98028</td>\n",
       "      <td>47.7379</td>\n",
       "      <td>-122.233</td>\n",
       "      <td>2720</td>\n",
       "      <td>8062</td>\n",
       "      <td>2015</td>\n",
       "      <td>2</td>\n",
       "      <td>25</td>\n",
       "      <td>82</td>\n",
       "      <td>0.0</td>\n",
       "      <td>0.1800</td>\n",
       "    </tr>\n",
       "    <tr>\n",
       "      <td>3</td>\n",
       "      <td>2487200875</td>\n",
       "      <td>604000.0</td>\n",
       "      <td>4</td>\n",
       "      <td>3.00</td>\n",
       "      <td>1960</td>\n",
       "      <td>5000</td>\n",
       "      <td>1.0</td>\n",
       "      <td>0.0</td>\n",
       "      <td>0.0</td>\n",
       "      <td>5</td>\n",
       "      <td>7</td>\n",
       "      <td>1050</td>\n",
       "      <td>910.0</td>\n",
       "      <td>1965</td>\n",
       "      <td>1987.0</td>\n",
       "      <td>98136</td>\n",
       "      <td>47.5208</td>\n",
       "      <td>-122.393</td>\n",
       "      <td>1360</td>\n",
       "      <td>5000</td>\n",
       "      <td>2014</td>\n",
       "      <td>12</td>\n",
       "      <td>9</td>\n",
       "      <td>49</td>\n",
       "      <td>22.0</td>\n",
       "      <td>0.6040</td>\n",
       "    </tr>\n",
       "    <tr>\n",
       "      <td>4</td>\n",
       "      <td>1954400510</td>\n",
       "      <td>510000.0</td>\n",
       "      <td>3</td>\n",
       "      <td>2.00</td>\n",
       "      <td>1680</td>\n",
       "      <td>8080</td>\n",
       "      <td>1.0</td>\n",
       "      <td>0.0</td>\n",
       "      <td>0.0</td>\n",
       "      <td>3</td>\n",
       "      <td>8</td>\n",
       "      <td>1680</td>\n",
       "      <td>0.0</td>\n",
       "      <td>1987</td>\n",
       "      <td>2001.0</td>\n",
       "      <td>98074</td>\n",
       "      <td>47.6168</td>\n",
       "      <td>-122.045</td>\n",
       "      <td>1800</td>\n",
       "      <td>7503</td>\n",
       "      <td>2015</td>\n",
       "      <td>2</td>\n",
       "      <td>18</td>\n",
       "      <td>28</td>\n",
       "      <td>14.0</td>\n",
       "      <td>0.5100</td>\n",
       "    </tr>\n",
       "  </tbody>\n",
       "</table>\n",
       "</div>"
      ],
      "text/plain": [
       "           id     price  bedrooms  bathrooms  sqft_living  sqft_lot  floors  \\\n",
       "0  7129300520  221900.0         3       1.00         1180      5650     1.0   \n",
       "1  6414100192  538000.0         3       2.25         2570      7242     2.0   \n",
       "2  5631500400  180000.0         2       1.00          770     10000     1.0   \n",
       "3  2487200875  604000.0         4       3.00         1960      5000     1.0   \n",
       "4  1954400510  510000.0         3       2.00         1680      8080     1.0   \n",
       "\n",
       "   waterfront  view  condition  grade  sqft_above  sqft_basement  yr_built  \\\n",
       "0         0.0   0.0          3      7        1180            0.0      1955   \n",
       "1         0.0   0.0          3      7        2170          400.0      1951   \n",
       "2         0.0   0.0          3      6         770            0.0      1933   \n",
       "3         0.0   0.0          5      7        1050          910.0      1965   \n",
       "4         0.0   0.0          3      8        1680            0.0      1987   \n",
       "\n",
       "   yr_renovated  zipcode      lat     long  sqft_living15  sqft_lot15  year  \\\n",
       "0        1951.0    98178  47.5112 -122.257           1340        5650  2014   \n",
       "1        1991.0    98125  47.7210 -122.319           1690        7639  2014   \n",
       "2        1933.0    98028  47.7379 -122.233           2720        8062  2015   \n",
       "3        1987.0    98136  47.5208 -122.393           1360        5000  2014   \n",
       "4        2001.0    98074  47.6168 -122.045           1800        7503  2015   \n",
       "\n",
       "   month  day  yr_age_of_house  yr_age_of_renovation  price_in_millions  \n",
       "0     10   13               59                   0.0             0.2219  \n",
       "1     12    9               63                  40.0             0.5380  \n",
       "2      2   25               82                   0.0             0.1800  \n",
       "3     12    9               49                  22.0             0.6040  \n",
       "4      2   18               28                  14.0             0.5100  "
      ]
     },
     "execution_count": 3,
     "metadata": {},
     "output_type": "execute_result"
    }
   ],
   "source": [
    "kcfe = pd.read_csv('kc_4_fe3') \n",
    "kcfe.head() "
   ]
  },
  {
   "cell_type": "markdown",
   "metadata": {},
   "source": [
    "##### Checking percentage of nan values and list of features which has missing value"
   ]
  },
  {
   "cell_type": "code",
   "execution_count": 4,
   "metadata": {
    "ExecuteTime": {
     "end_time": "2020-10-28T03:30:16.460228Z",
     "start_time": "2020-10-28T03:30:16.433243Z"
    }
   },
   "outputs": [],
   "source": [
    "# checking % of nan value present\n",
    "# Finding list of features having missing values\n",
    "features_with_na=[features for features in kcfe.columns if kcfe[features].isnull().sum()>1]\n",
    "# printing the feature name and missing value\n",
    "for feature in features_with_na:\n",
    "    print(feature,np.round(kcfe[feature].isnull().mean(),6), '%missing vales')  #upto 6 decimal place"
   ]
  },
  {
   "cell_type": "markdown",
   "metadata": {},
   "source": [
    "##### No Null values or missing value detected "
   ]
  },
  {
   "cell_type": "code",
   "execution_count": 5,
   "metadata": {
    "ExecuteTime": {
     "end_time": "2020-10-28T03:30:16.551220Z",
     "start_time": "2020-10-28T03:30:16.463225Z"
    }
   },
   "outputs": [
    {
     "data": {
      "text/plain": [
       "id                        int64\n",
       "price                   float64\n",
       "bedrooms                  int64\n",
       "bathrooms               float64\n",
       "sqft_living               int64\n",
       "sqft_lot                  int64\n",
       "floors                  float64\n",
       "waterfront              float64\n",
       "view                    float64\n",
       "condition                 int64\n",
       "grade                     int64\n",
       "sqft_above                int64\n",
       "sqft_basement           float64\n",
       "yr_built                  int64\n",
       "yr_renovated            float64\n",
       "zipcode                   int64\n",
       "lat                     float64\n",
       "long                    float64\n",
       "sqft_living15             int64\n",
       "sqft_lot15                int64\n",
       "year                      int64\n",
       "month                     int64\n",
       "day                       int64\n",
       "yr_age_of_house           int64\n",
       "yr_age_of_renovation    float64\n",
       "price_in_millions       float64\n",
       "dtype: object"
      ]
     },
     "execution_count": 5,
     "metadata": {},
     "output_type": "execute_result"
    }
   ],
   "source": [
    "kcfe.dtypes "
   ]
  },
  {
   "cell_type": "markdown",
   "metadata": {},
   "source": [
    "##### Finding relationship between each column having missing value and sales price"
   ]
  },
  {
   "cell_type": "code",
   "execution_count": 6,
   "metadata": {
    "ExecuteTime": {
     "end_time": "2020-10-28T03:30:16.617327Z",
     "start_time": "2020-10-28T03:30:16.555216Z"
    }
   },
   "outputs": [],
   "source": [
    "for feature in features_with_na:\n",
    "    kc1 = kcfe.copy()\n",
    "    \n",
    "    #making variable that indicate 1 if the observation was missing or zero otherwise\n",
    "    kc1[feature] = np.where(kc1[feature].isnull(), 1, 0)\n",
    "    \n",
    "    \n",
    "    #Calculating the mean Sale price where information is missing or present\n",
    "    kc1.groupby(feature)['price'].median().plot.bar()\n",
    "    plt.title(feature)\n",
    "    plt.show()\n",
    "    \n",
    "    # Each null value will be ploted in 1 on the x axis"
   ]
  },
  {
   "cell_type": "code",
   "execution_count": 7,
   "metadata": {
    "ExecuteTime": {
     "end_time": "2020-10-28T03:30:16.812356Z",
     "start_time": "2020-10-28T03:30:16.620323Z"
    }
   },
   "outputs": [
    {
     "data": {
      "text/plain": [
       "id                      21420\n",
       "price                    3622\n",
       "bedrooms                   12\n",
       "bathrooms                  29\n",
       "sqft_living              1034\n",
       "sqft_lot                 9776\n",
       "floors                      6\n",
       "waterfront                  2\n",
       "view                        5\n",
       "condition                   5\n",
       "grade                      11\n",
       "sqft_above                942\n",
       "sqft_basement             303\n",
       "yr_built                  116\n",
       "yr_renovated              116\n",
       "zipcode                    70\n",
       "lat                      5033\n",
       "long                      751\n",
       "sqft_living15             777\n",
       "sqft_lot15               8682\n",
       "year                        2\n",
       "month                      12\n",
       "day                        31\n",
       "yr_age_of_house           117\n",
       "yr_age_of_renovation      114\n",
       "price_in_millions        3622\n",
       "dtype: int64"
      ]
     },
     "execution_count": 7,
     "metadata": {},
     "output_type": "execute_result"
    }
   ],
   "source": [
    "kcfe.nunique() "
   ]
  },
  {
   "cell_type": "markdown",
   "metadata": {},
   "source": [
    "##### Confirming all columns as Numerical variables "
   ]
  },
  {
   "cell_type": "code",
   "execution_count": 8,
   "metadata": {
    "ExecuteTime": {
     "end_time": "2020-10-28T03:30:16.854340Z",
     "start_time": "2020-10-28T03:30:16.815353Z"
    }
   },
   "outputs": [
    {
     "name": "stdout",
     "output_type": "stream",
     "text": [
      "Number of numerical variables:  26\n"
     ]
    },
    {
     "data": {
      "text/html": [
       "<div>\n",
       "<style scoped>\n",
       "    .dataframe tbody tr th:only-of-type {\n",
       "        vertical-align: middle;\n",
       "    }\n",
       "\n",
       "    .dataframe tbody tr th {\n",
       "        vertical-align: top;\n",
       "    }\n",
       "\n",
       "    .dataframe thead th {\n",
       "        text-align: right;\n",
       "    }\n",
       "</style>\n",
       "<table border=\"1\" class=\"dataframe\">\n",
       "  <thead>\n",
       "    <tr style=\"text-align: right;\">\n",
       "      <th></th>\n",
       "      <th>id</th>\n",
       "      <th>price</th>\n",
       "      <th>bedrooms</th>\n",
       "      <th>bathrooms</th>\n",
       "      <th>sqft_living</th>\n",
       "      <th>sqft_lot</th>\n",
       "      <th>floors</th>\n",
       "      <th>waterfront</th>\n",
       "      <th>view</th>\n",
       "      <th>condition</th>\n",
       "      <th>grade</th>\n",
       "      <th>sqft_above</th>\n",
       "      <th>sqft_basement</th>\n",
       "      <th>yr_built</th>\n",
       "      <th>yr_renovated</th>\n",
       "      <th>zipcode</th>\n",
       "      <th>lat</th>\n",
       "      <th>long</th>\n",
       "      <th>sqft_living15</th>\n",
       "      <th>sqft_lot15</th>\n",
       "      <th>year</th>\n",
       "      <th>month</th>\n",
       "      <th>day</th>\n",
       "      <th>yr_age_of_house</th>\n",
       "      <th>yr_age_of_renovation</th>\n",
       "      <th>price_in_millions</th>\n",
       "    </tr>\n",
       "  </thead>\n",
       "  <tbody>\n",
       "    <tr>\n",
       "      <td>0</td>\n",
       "      <td>7129300520</td>\n",
       "      <td>221900.0</td>\n",
       "      <td>3</td>\n",
       "      <td>1.00</td>\n",
       "      <td>1180</td>\n",
       "      <td>5650</td>\n",
       "      <td>1.0</td>\n",
       "      <td>0.0</td>\n",
       "      <td>0.0</td>\n",
       "      <td>3</td>\n",
       "      <td>7</td>\n",
       "      <td>1180</td>\n",
       "      <td>0.0</td>\n",
       "      <td>1955</td>\n",
       "      <td>1951.0</td>\n",
       "      <td>98178</td>\n",
       "      <td>47.5112</td>\n",
       "      <td>-122.257</td>\n",
       "      <td>1340</td>\n",
       "      <td>5650</td>\n",
       "      <td>2014</td>\n",
       "      <td>10</td>\n",
       "      <td>13</td>\n",
       "      <td>59</td>\n",
       "      <td>0.0</td>\n",
       "      <td>0.2219</td>\n",
       "    </tr>\n",
       "    <tr>\n",
       "      <td>1</td>\n",
       "      <td>6414100192</td>\n",
       "      <td>538000.0</td>\n",
       "      <td>3</td>\n",
       "      <td>2.25</td>\n",
       "      <td>2570</td>\n",
       "      <td>7242</td>\n",
       "      <td>2.0</td>\n",
       "      <td>0.0</td>\n",
       "      <td>0.0</td>\n",
       "      <td>3</td>\n",
       "      <td>7</td>\n",
       "      <td>2170</td>\n",
       "      <td>400.0</td>\n",
       "      <td>1951</td>\n",
       "      <td>1991.0</td>\n",
       "      <td>98125</td>\n",
       "      <td>47.7210</td>\n",
       "      <td>-122.319</td>\n",
       "      <td>1690</td>\n",
       "      <td>7639</td>\n",
       "      <td>2014</td>\n",
       "      <td>12</td>\n",
       "      <td>9</td>\n",
       "      <td>63</td>\n",
       "      <td>40.0</td>\n",
       "      <td>0.5380</td>\n",
       "    </tr>\n",
       "    <tr>\n",
       "      <td>2</td>\n",
       "      <td>5631500400</td>\n",
       "      <td>180000.0</td>\n",
       "      <td>2</td>\n",
       "      <td>1.00</td>\n",
       "      <td>770</td>\n",
       "      <td>10000</td>\n",
       "      <td>1.0</td>\n",
       "      <td>0.0</td>\n",
       "      <td>0.0</td>\n",
       "      <td>3</td>\n",
       "      <td>6</td>\n",
       "      <td>770</td>\n",
       "      <td>0.0</td>\n",
       "      <td>1933</td>\n",
       "      <td>1933.0</td>\n",
       "      <td>98028</td>\n",
       "      <td>47.7379</td>\n",
       "      <td>-122.233</td>\n",
       "      <td>2720</td>\n",
       "      <td>8062</td>\n",
       "      <td>2015</td>\n",
       "      <td>2</td>\n",
       "      <td>25</td>\n",
       "      <td>82</td>\n",
       "      <td>0.0</td>\n",
       "      <td>0.1800</td>\n",
       "    </tr>\n",
       "    <tr>\n",
       "      <td>3</td>\n",
       "      <td>2487200875</td>\n",
       "      <td>604000.0</td>\n",
       "      <td>4</td>\n",
       "      <td>3.00</td>\n",
       "      <td>1960</td>\n",
       "      <td>5000</td>\n",
       "      <td>1.0</td>\n",
       "      <td>0.0</td>\n",
       "      <td>0.0</td>\n",
       "      <td>5</td>\n",
       "      <td>7</td>\n",
       "      <td>1050</td>\n",
       "      <td>910.0</td>\n",
       "      <td>1965</td>\n",
       "      <td>1987.0</td>\n",
       "      <td>98136</td>\n",
       "      <td>47.5208</td>\n",
       "      <td>-122.393</td>\n",
       "      <td>1360</td>\n",
       "      <td>5000</td>\n",
       "      <td>2014</td>\n",
       "      <td>12</td>\n",
       "      <td>9</td>\n",
       "      <td>49</td>\n",
       "      <td>22.0</td>\n",
       "      <td>0.6040</td>\n",
       "    </tr>\n",
       "    <tr>\n",
       "      <td>4</td>\n",
       "      <td>1954400510</td>\n",
       "      <td>510000.0</td>\n",
       "      <td>3</td>\n",
       "      <td>2.00</td>\n",
       "      <td>1680</td>\n",
       "      <td>8080</td>\n",
       "      <td>1.0</td>\n",
       "      <td>0.0</td>\n",
       "      <td>0.0</td>\n",
       "      <td>3</td>\n",
       "      <td>8</td>\n",
       "      <td>1680</td>\n",
       "      <td>0.0</td>\n",
       "      <td>1987</td>\n",
       "      <td>2001.0</td>\n",
       "      <td>98074</td>\n",
       "      <td>47.6168</td>\n",
       "      <td>-122.045</td>\n",
       "      <td>1800</td>\n",
       "      <td>7503</td>\n",
       "      <td>2015</td>\n",
       "      <td>2</td>\n",
       "      <td>18</td>\n",
       "      <td>28</td>\n",
       "      <td>14.0</td>\n",
       "      <td>0.5100</td>\n",
       "    </tr>\n",
       "  </tbody>\n",
       "</table>\n",
       "</div>"
      ],
      "text/plain": [
       "           id     price  bedrooms  bathrooms  sqft_living  sqft_lot  floors  \\\n",
       "0  7129300520  221900.0         3       1.00         1180      5650     1.0   \n",
       "1  6414100192  538000.0         3       2.25         2570      7242     2.0   \n",
       "2  5631500400  180000.0         2       1.00          770     10000     1.0   \n",
       "3  2487200875  604000.0         4       3.00         1960      5000     1.0   \n",
       "4  1954400510  510000.0         3       2.00         1680      8080     1.0   \n",
       "\n",
       "   waterfront  view  condition  grade  sqft_above  sqft_basement  yr_built  \\\n",
       "0         0.0   0.0          3      7        1180            0.0      1955   \n",
       "1         0.0   0.0          3      7        2170          400.0      1951   \n",
       "2         0.0   0.0          3      6         770            0.0      1933   \n",
       "3         0.0   0.0          5      7        1050          910.0      1965   \n",
       "4         0.0   0.0          3      8        1680            0.0      1987   \n",
       "\n",
       "   yr_renovated  zipcode      lat     long  sqft_living15  sqft_lot15  year  \\\n",
       "0        1951.0    98178  47.5112 -122.257           1340        5650  2014   \n",
       "1        1991.0    98125  47.7210 -122.319           1690        7639  2014   \n",
       "2        1933.0    98028  47.7379 -122.233           2720        8062  2015   \n",
       "3        1987.0    98136  47.5208 -122.393           1360        5000  2014   \n",
       "4        2001.0    98074  47.6168 -122.045           1800        7503  2015   \n",
       "\n",
       "   month  day  yr_age_of_house  yr_age_of_renovation  price_in_millions  \n",
       "0     10   13               59                   0.0             0.2219  \n",
       "1     12    9               63                  40.0             0.5380  \n",
       "2      2   25               82                   0.0             0.1800  \n",
       "3     12    9               49                  22.0             0.6040  \n",
       "4      2   18               28                  14.0             0.5100  "
      ]
     },
     "execution_count": 8,
     "metadata": {},
     "output_type": "execute_result"
    }
   ],
   "source": [
    "#listing all numerical variables\n",
    "num_features = [feature for feature in kcfe.columns if kcfe[feature].dtypes != 'O']  #'O' is for object\n",
    "print('Number of numerical variables: ', len(num_features))\n",
    "#visualising the columns of the data\n",
    "kcfe[num_features].head() "
   ]
  },
  {
   "cell_type": "code",
   "execution_count": 9,
   "metadata": {
    "ExecuteTime": {
     "end_time": "2020-10-28T03:30:16.953411Z",
     "start_time": "2020-10-28T03:30:16.861328Z"
    }
   },
   "outputs": [
    {
     "data": {
      "text/plain": [
       "['yr_built',\n",
       " 'yr_renovated',\n",
       " 'year',\n",
       " 'month',\n",
       " 'day',\n",
       " 'yr_age_of_house',\n",
       " 'yr_age_of_renovation']"
      ]
     },
     "execution_count": 9,
     "metadata": {},
     "output_type": "execute_result"
    }
   ],
   "source": [
    "yr_feature = [feature for feature in num_features if 'yr' in feature or 'year' in feature or 'month' in feature or 'day' in feature] \n",
    "yr_feature"
   ]
  },
  {
   "cell_type": "code",
   "execution_count": 10,
   "metadata": {
    "ExecuteTime": {
     "end_time": "2020-10-28T03:30:17.052072Z",
     "start_time": "2020-10-28T03:30:16.964399Z"
    }
   },
   "outputs": [
    {
     "name": "stdout",
     "output_type": "stream",
     "text": [
      "yr_built 116\n",
      "yr_renovated 116\n",
      "year 2\n",
      "month 12\n",
      "day 31\n",
      "yr_age_of_house 117\n",
      "yr_age_of_renovation 114\n"
     ]
    }
   ],
   "source": [
    "for feature in yr_feature:\n",
    "    print(feature, kcfe[feature].nunique())     "
   ]
  },
  {
   "cell_type": "code",
   "execution_count": 11,
   "metadata": {
    "ExecuteTime": {
     "end_time": "2020-10-28T03:30:17.152385Z",
     "start_time": "2020-10-28T03:30:17.055070Z"
    }
   },
   "outputs": [
    {
     "data": {
      "text/plain": [
       "(2014, 2015)"
      ]
     },
     "execution_count": 11,
     "metadata": {},
     "output_type": "execute_result"
    }
   ],
   "source": [
    "kcfe.year.min(), kcfe.year.max()  "
   ]
  },
  {
   "cell_type": "code",
   "execution_count": 12,
   "metadata": {
    "ExecuteTime": {
     "end_time": "2020-10-28T03:30:20.017865Z",
     "start_time": "2020-10-28T03:30:17.159382Z"
    }
   },
   "outputs": [
    {
     "data": {
      "image/png": "[encoded data removed]",
      "text/plain": [
       "<Figure size 432x288 with 1 Axes>"
      ]
     },
     "metadata": {
      "needs_background": "light"
     },
     "output_type": "display_data"
    },
    {
     "data": {
      "image/png": "[encoded data removed]",
      "text/plain": [
       "<Figure size 432x288 with 1 Axes>"
      ]
     },
     "metadata": {
      "needs_background": "light"
     },
     "output_type": "display_data"
    },
    {
     "data": {
      "image/png": "[encoded data removed]",
      "text/plain": [
       "<Figure size 432x288 with 1 Axes>"
      ]
     },
     "metadata": {
      "needs_background": "light"
     },
     "output_type": "display_data"
    },
    {
     "data": {
      "image/png": "[encoded data removed]",
      "text/plain": [
       "<Figure size 432x288 with 1 Axes>"
      ]
     },
     "metadata": {
      "needs_background": "light"
     },
     "output_type": "display_data"
    },
    {
     "data": {
      "image/png": "[encoded data removed]",
      "text/plain": [
       "<Figure size 432x288 with 1 Axes>"
      ]
     },
     "metadata": {
      "needs_background": "light"
     },
     "output_type": "display_data"
    },
    {
     "data": {
      "image/png": "[encoded data removed]",
      "text/plain": [
       "<Figure size 432x288 with 1 Axes>"
      ]
     },
     "metadata": {
      "needs_background": "light"
     },
     "output_type": "display_data"
    }
   ],
   "source": [
    "for feature in yr_feature:\n",
    "    if feature !='year':\n",
    "        kc1=kcfe.copy()\n",
    "        plt.scatter(kc1[feature], kc1['price_in_millions']) \n",
    "        plt.xlabel(feature)\n",
    "        plt.ylabel('price_in_millions') \n",
    "        plt.show() "
   ]
  },
  {
   "cell_type": "markdown",
   "metadata": {},
   "source": [
    "##### Observation : we can see that there are 7 datetime based variables . \n",
    "* yr_age_of_house provides us the report that there were more newer houses sold than the older houses\n"
   ]
  },
  {
   "cell_type": "markdown",
   "metadata": {},
   "source": [
    "#### Two types of Numerical Variables: Continous & Discreate Variable"
   ]
  },
  {
   "cell_type": "code",
   "execution_count": 13,
   "metadata": {
    "ExecuteTime": {
     "end_time": "2020-10-28T03:30:20.046848Z",
     "start_time": "2020-10-28T03:30:20.020864Z"
    }
   },
   "outputs": [
    {
     "name": "stdout",
     "output_type": "stream",
     "text": [
      "Discrete Variable Count: 7\n"
     ]
    }
   ],
   "source": [
    "discrete_feature = [feature for feature in num_features if len (kcfe[feature].unique())<30 and feature not in yr_feature + ['id']] \n",
    "\n",
    "print('Discrete Variable Count: {}'.format(len(discrete_feature))) "
   ]
  },
  {
   "cell_type": "code",
   "execution_count": 14,
   "metadata": {
    "ExecuteTime": {
     "end_time": "2020-10-28T03:30:20.163044Z",
     "start_time": "2020-10-28T03:30:20.048847Z"
    }
   },
   "outputs": [
    {
     "data": {
      "text/plain": [
       "['bedrooms', 'bathrooms', 'floors', 'waterfront', 'view', 'condition', 'grade']"
      ]
     },
     "execution_count": 14,
     "metadata": {},
     "output_type": "execute_result"
    }
   ],
   "source": [
    "discrete_feature"
   ]
  },
  {
   "cell_type": "code",
   "execution_count": 15,
   "metadata": {
    "ExecuteTime": {
     "end_time": "2020-10-28T03:30:20.284312Z",
     "start_time": "2020-10-28T03:30:20.173038Z"
    }
   },
   "outputs": [
    {
     "data": {
      "text/html": [
       "<div>\n",
       "<style scoped>\n",
       "    .dataframe tbody tr th:only-of-type {\n",
       "        vertical-align: middle;\n",
       "    }\n",
       "\n",
       "    .dataframe tbody tr th {\n",
       "        vertical-align: top;\n",
       "    }\n",
       "\n",
       "    .dataframe thead th {\n",
       "        text-align: right;\n",
       "    }\n",
       "</style>\n",
       "<table border=\"1\" class=\"dataframe\">\n",
       "  <thead>\n",
       "    <tr style=\"text-align: right;\">\n",
       "      <th></th>\n",
       "      <th>bedrooms</th>\n",
       "      <th>bathrooms</th>\n",
       "      <th>floors</th>\n",
       "      <th>waterfront</th>\n",
       "      <th>view</th>\n",
       "      <th>condition</th>\n",
       "      <th>grade</th>\n",
       "    </tr>\n",
       "  </thead>\n",
       "  <tbody>\n",
       "    <tr>\n",
       "      <td>0</td>\n",
       "      <td>3</td>\n",
       "      <td>1.00</td>\n",
       "      <td>1.0</td>\n",
       "      <td>0.0</td>\n",
       "      <td>0.0</td>\n",
       "      <td>3</td>\n",
       "      <td>7</td>\n",
       "    </tr>\n",
       "    <tr>\n",
       "      <td>1</td>\n",
       "      <td>3</td>\n",
       "      <td>2.25</td>\n",
       "      <td>2.0</td>\n",
       "      <td>0.0</td>\n",
       "      <td>0.0</td>\n",
       "      <td>3</td>\n",
       "      <td>7</td>\n",
       "    </tr>\n",
       "    <tr>\n",
       "      <td>2</td>\n",
       "      <td>2</td>\n",
       "      <td>1.00</td>\n",
       "      <td>1.0</td>\n",
       "      <td>0.0</td>\n",
       "      <td>0.0</td>\n",
       "      <td>3</td>\n",
       "      <td>6</td>\n",
       "    </tr>\n",
       "    <tr>\n",
       "      <td>3</td>\n",
       "      <td>4</td>\n",
       "      <td>3.00</td>\n",
       "      <td>1.0</td>\n",
       "      <td>0.0</td>\n",
       "      <td>0.0</td>\n",
       "      <td>5</td>\n",
       "      <td>7</td>\n",
       "    </tr>\n",
       "    <tr>\n",
       "      <td>4</td>\n",
       "      <td>3</td>\n",
       "      <td>2.00</td>\n",
       "      <td>1.0</td>\n",
       "      <td>0.0</td>\n",
       "      <td>0.0</td>\n",
       "      <td>3</td>\n",
       "      <td>8</td>\n",
       "    </tr>\n",
       "  </tbody>\n",
       "</table>\n",
       "</div>"
      ],
      "text/plain": [
       "   bedrooms  bathrooms  floors  waterfront  view  condition  grade\n",
       "0         3       1.00     1.0         0.0   0.0          3      7\n",
       "1         3       2.25     2.0         0.0   0.0          3      7\n",
       "2         2       1.00     1.0         0.0   0.0          3      6\n",
       "3         4       3.00     1.0         0.0   0.0          5      7\n",
       "4         3       2.00     1.0         0.0   0.0          3      8"
      ]
     },
     "execution_count": 15,
     "metadata": {},
     "output_type": "execute_result"
    }
   ],
   "source": [
    "kcfe[discrete_feature].head() "
   ]
  },
  {
   "cell_type": "code",
   "execution_count": 16,
   "metadata": {
    "ExecuteTime": {
     "end_time": "2020-10-28T03:30:21.853371Z",
     "start_time": "2020-10-28T03:30:20.290306Z"
    }
   },
   "outputs": [
    {
     "data": {
      "image/png": "[encoded data removed]",
      "text/plain": [
       "<Figure size 432x288 with 1 Axes>"
      ]
     },
     "metadata": {
      "needs_background": "light"
     },
     "output_type": "display_data"
    },
    {
     "data": {
      "image/png": "[encoded data removed]",
      "text/plain": [
       "<Figure size 432x288 with 1 Axes>"
      ]
     },
     "metadata": {
      "needs_background": "light"
     },
     "output_type": "display_data"
    },
    {
     "data": {
      "image/png": "[encoded data removed]",
      "text/plain": [
       "<Figure size 432x288 with 1 Axes>"
      ]
     },
     "metadata": {
      "needs_background": "light"
     },
     "output_type": "display_data"
    },
    {
     "data": {
      "image/png": "[encoded data removed]",
      "text/plain": [
       "<Figure size 432x288 with 1 Axes>"
      ]
     },
     "metadata": {
      "needs_background": "light"
     },
     "output_type": "display_data"
    },
    {
     "data": {
      "image/png": "[encoded data removed]",
      "text/plain": [
       "<Figure size 432x288 with 1 Axes>"
      ]
     },
     "metadata": {
      "needs_background": "light"
     },
     "output_type": "display_data"
    },
    {
     "data": {
      "image/png": "[encoded data removed]",
      "text/plain": [
       "<Figure size 432x288 with 1 Axes>"
      ]
     },
     "metadata": {
      "needs_background": "light"
     },
     "output_type": "display_data"
    },
    {
     "data": {
      "image/png": "[encoded data removed]",
      "text/plain": [
       "<Figure size 432x288 with 1 Axes>"
      ]
     },
     "metadata": {
      "needs_background": "light"
     },
     "output_type": "display_data"
    }
   ],
   "source": [
    "for feature in discrete_feature:\n",
    "    kc1 = kcfe.copy() \n",
    "    kc1.groupby(feature)['price'].median().plot.bar()\n",
    "    plt.xlabel(feature)\n",
    "    plt.ylabel('price')\n",
    "    plt.title(feature)\n",
    "    plt.show() "
   ]
  },
  {
   "cell_type": "code",
   "execution_count": 17,
   "metadata": {
    "ExecuteTime": {
     "end_time": "2020-10-28T03:30:21.867364Z",
     "start_time": "2020-10-28T03:30:21.857369Z"
    }
   },
   "outputs": [
    {
     "name": "stdout",
     "output_type": "stream",
     "text": [
      "Continuous Variable Count: 11\n"
     ]
    }
   ],
   "source": [
    "continuous_feature = [feature for feature in num_features if feature not in yr_feature + discrete_feature + ['id']] \n",
    "print('Continuous Variable Count: {}'.format(len(continuous_feature))) "
   ]
  },
  {
   "cell_type": "code",
   "execution_count": 18,
   "metadata": {
    "ExecuteTime": {
     "end_time": "2020-10-28T03:30:21.999596Z",
     "start_time": "2020-10-28T03:30:21.871362Z"
    }
   },
   "outputs": [
    {
     "data": {
      "text/plain": [
       "['price',\n",
       " 'sqft_living',\n",
       " 'sqft_lot',\n",
       " 'sqft_above',\n",
       " 'sqft_basement',\n",
       " 'zipcode',\n",
       " 'lat',\n",
       " 'long',\n",
       " 'sqft_living15',\n",
       " 'sqft_lot15',\n",
       " 'price_in_millions']"
      ]
     },
     "execution_count": 18,
     "metadata": {},
     "output_type": "execute_result"
    }
   ],
   "source": [
    "continuous_feature"
   ]
  },
  {
   "cell_type": "markdown",
   "metadata": {},
   "source": [
    "#####  Finding distribution of continous feature / variable with histogram"
   ]
  },
  {
   "cell_type": "code",
   "execution_count": 19,
   "metadata": {
    "ExecuteTime": {
     "end_time": "2020-10-28T03:30:25.285850Z",
     "start_time": "2020-10-28T03:30:22.006589Z"
    }
   },
   "outputs": [
    {
     "data": {
      "image/png": "[encoded data removed]",
      "text/plain": [
       "<Figure size 432x288 with 1 Axes>"
      ]
     },
     "metadata": {
      "needs_background": "light"
     },
     "output_type": "display_data"
    },
    {
     "data": {
      "image/png": "[encoded data removed]",
      "text/plain": [
       "<Figure size 432x288 with 1 Axes>"
      ]
     },
     "metadata": {
      "needs_background": "light"
     },
     "output_type": "display_data"
    },
    {
     "data": {
      "image/png": "[encoded data removed]",
      "text/plain": [
       "<Figure size 432x288 with 1 Axes>"
      ]
     },
     "metadata": {
      "needs_background": "light"
     },
     "output_type": "display_data"
    },
    {
     "data": {
      "image/png": "[encoded data removed]",
      "text/plain": [
       "<Figure size 432x288 with 1 Axes>"
      ]
     },
     "metadata": {
      "needs_background": "light"
     },
     "output_type": "display_data"
    },
    {
     "data": {
      "image/png": "[encoded data removed]",
      "text/plain": [
       "<Figure size 432x288 with 1 Axes>"
      ]
     },
     "metadata": {
      "needs_background": "light"
     },
     "output_type": "display_data"
    },
    {
     "data": {
      "image/png": "[encoded data removed]",
      "text/plain": [
       "<Figure size 432x288 with 1 Axes>"
      ]
     },
     "metadata": {
      "needs_background": "light"
     },
     "output_type": "display_data"
    },
    {
     "data": {
      "image/png": "[encoded data removed]",
      "text/plain": [
       "<Figure size 432x288 with 1 Axes>"
      ]
     },
     "metadata": {
      "needs_background": "light"
     },
     "output_type": "display_data"
    },
    {
     "data": {
      "image/png": "[encoded data removed]",
      "text/plain": [
       "<Figure size 432x288 with 1 Axes>"
      ]
     },
     "metadata": {
      "needs_background": "light"
     },
     "output_type": "display_data"
    },
    {
     "data": {
      "image/png": "[encoded data removed]",
      "text/plain": [
       "<Figure size 432x288 with 1 Axes>"
      ]
     },
     "metadata": {
      "needs_background": "light"
     },
     "output_type": "display_data"
    },
    {
     "data": {
      "image/png": "[encoded data removed]",
      "text/plain": [
       "<Figure size 432x288 with 1 Axes>"
      ]
     },
     "metadata": {
      "needs_background": "light"
     },
     "output_type": "display_data"
    },
    {
     "data": {
      "image/png": "[encoded data removed]",
      "text/plain": [
       "<Figure size 432x288 with 1 Axes>"
      ]
     },
     "metadata": {
      "needs_background": "light"
     },
     "output_type": "display_data"
    }
   ],
   "source": [
    "for feature in continuous_feature:\n",
    "    kc1=kcfe.copy()\n",
    "    kc1[feature].hist(bins=25)\n",
    "    plt.xlabel(feature)\n",
    "    plt.ylabel('Count')\n",
    "    plt.title(feature)\n",
    "    plt.show()"
   ]
  },
  {
   "cell_type": "markdown",
   "metadata": {},
   "source": [
    "###  Logarithmic transformation \n",
    "* Applying log normal distribution for dependent(price_in_millions) and independent(others) feature to check the relationship"
   ]
  },
  {
   "cell_type": "code",
   "execution_count": 20,
   "metadata": {
    "ExecuteTime": {
     "end_time": "2020-10-28T03:30:29.232585Z",
     "start_time": "2020-10-28T03:30:25.289849Z"
    }
   },
   "outputs": [
    {
     "data": {
      "image/png": "[encoded data removed]",
      "text/plain": [
       "<Figure size 432x288 with 1 Axes>"
      ]
     },
     "metadata": {
      "needs_background": "light"
     },
     "output_type": "display_data"
    },
    {
     "data": {
      "image/png": "[encoded data removed]",
      "text/plain": [
       "<Figure size 432x288 with 1 Axes>"
      ]
     },
     "metadata": {
      "needs_background": "light"
     },
     "output_type": "display_data"
    },
    {
     "data": {
      "image/png": "[encoded data removed]",
      "text/plain": [
       "<Figure size 432x288 with 1 Axes>"
      ]
     },
     "metadata": {
      "needs_background": "light"
     },
     "output_type": "display_data"
    },
    {
     "data": {
      "image/png": "[encoded data removed]",
      "text/plain": [
       "<Figure size 432x288 with 1 Axes>"
      ]
     },
     "metadata": {
      "needs_background": "light"
     },
     "output_type": "display_data"
    },
    {
     "data": {
      "image/png": "[encoded data removed]",
      "text/plain": [
       "<Figure size 432x288 with 1 Axes>"
      ]
     },
     "metadata": {
      "needs_background": "light"
     },
     "output_type": "display_data"
    },
    {
     "data": {
      "image/png": "[encoded data removed]",
      "text/plain": [
       "<Figure size 432x288 with 1 Axes>"
      ]
     },
     "metadata": {
      "needs_background": "light"
     },
     "output_type": "display_data"
    },
    {
     "name": "stderr",
     "output_type": "stream",
     "text": [
      "C:\\Users\\DELL\\anaconda3\\envs\\learn-env\\lib\\site-packages\\pandas\\core\\series.py:853: RuntimeWarning: invalid value encountered in log\n",
      "  result = getattr(ufunc, method)(*inputs, **kwargs)\n"
     ]
    },
    {
     "data": {
      "image/png": "[encoded data removed]",
      "text/plain": [
       "<Figure size 432x288 with 1 Axes>"
      ]
     },
     "metadata": {
      "needs_background": "light"
     },
     "output_type": "display_data"
    },
    {
     "data": {
      "image/png": "[encoded data removed]",
      "text/plain": [
       "<Figure size 432x288 with 1 Axes>"
      ]
     },
     "metadata": {
      "needs_background": "light"
     },
     "output_type": "display_data"
    },
    {
     "data": {
      "image/png": "[encoded data removed]",
      "text/plain": [
       "<Figure size 432x288 with 1 Axes>"
      ]
     },
     "metadata": {
      "needs_background": "light"
     },
     "output_type": "display_data"
    },
    {
     "name": "stderr",
     "output_type": "stream",
     "text": [
      "C:\\Users\\DELL\\anaconda3\\envs\\learn-env\\lib\\site-packages\\pandas\\core\\series.py:853: RuntimeWarning: divide by zero encountered in log\n",
      "  result = getattr(ufunc, method)(*inputs, **kwargs)\n"
     ]
    },
    {
     "data": {
      "image/png": "[encoded data removed]",
      "text/plain": [
       "<Figure size 432x288 with 1 Axes>"
      ]
     },
     "metadata": {
      "needs_background": "light"
     },
     "output_type": "display_data"
    }
   ],
   "source": [
    "for feature in continuous_feature:\n",
    "    kc1=kcfe.copy()\n",
    "    if 0 in kc1[feature].unique():\n",
    "        pass\n",
    "    else:\n",
    "        kc1[feature]=np.log(kc1[feature])\n",
    "        kc1['price_in_millions'] = np.log(kc1['price_in_millions'])\n",
    "        plt.scatter(kc1[feature], kc1['price_in_millions'])\n",
    "        plt.xlabel(feature)\n",
    "        plt.ylabel('price_in_millions') \n",
    "        plt.title(feature)\n",
    "        plt.show() \n"
   ]
  },
  {
   "cell_type": "markdown",
   "metadata": {},
   "source": [
    "#### Observation: here we can see that there is a strong & positive monotonic relationship between the price_in_millions and other features like sqft_living , sqft_above &  sqft_living15 "
   ]
  },
  {
   "cell_type": "markdown",
   "metadata": {},
   "source": [
    "##### Checking the Outliers in the features using Box Plot"
   ]
  },
  {
   "cell_type": "code",
   "execution_count": 21,
   "metadata": {
    "ExecuteTime": {
     "end_time": "2020-10-28T03:30:30.918624Z",
     "start_time": "2020-10-28T03:30:29.235584Z"
    }
   },
   "outputs": [
    {
     "data": {
      "image/png": "[encoded data removed]",
      "text/plain": [
       "<Figure size 432x288 with 1 Axes>"
      ]
     },
     "metadata": {
      "needs_background": "light"
     },
     "output_type": "display_data"
    },
    {
     "data": {
      "image/png": "[encoded data removed]",
      "text/plain": [
       "<Figure size 432x288 with 1 Axes>"
      ]
     },
     "metadata": {
      "needs_background": "light"
     },
     "output_type": "display_data"
    },
    {
     "data": {
      "image/png": "[encoded data removed]",
      "text/plain": [
       "<Figure size 432x288 with 1 Axes>"
      ]
     },
     "metadata": {
      "needs_background": "light"
     },
     "output_type": "display_data"
    },
    {
     "data": {
      "image/png": "[encoded data removed]",
      "text/plain": [
       "<Figure size 432x288 with 1 Axes>"
      ]
     },
     "metadata": {
      "needs_background": "light"
     },
     "output_type": "display_data"
    },
    {
     "data": {
      "image/png": "[encoded data removed]",
      "text/plain": [
       "<Figure size 432x288 with 1 Axes>"
      ]
     },
     "metadata": {
      "needs_background": "light"
     },
     "output_type": "display_data"
    },
    {
     "data": {
      "image/png": "[encoded data removed]",
      "text/plain": [
       "<Figure size 432x288 with 1 Axes>"
      ]
     },
     "metadata": {
      "needs_background": "light"
     },
     "output_type": "display_data"
    },
    {
     "name": "stderr",
     "output_type": "stream",
     "text": [
      "C:\\Users\\DELL\\anaconda3\\envs\\learn-env\\lib\\site-packages\\pandas\\core\\series.py:853: RuntimeWarning: invalid value encountered in log\n",
      "  result = getattr(ufunc, method)(*inputs, **kwargs)\n"
     ]
    },
    {
     "data": {
      "image/png": "[encoded data removed]",
      "text/plain": [
       "<Figure size 432x288 with 1 Axes>"
      ]
     },
     "metadata": {
      "needs_background": "light"
     },
     "output_type": "display_data"
    },
    {
     "data": {
      "image/png": "[encoded data removed]",
      "text/plain": [
       "<Figure size 432x288 with 1 Axes>"
      ]
     },
     "metadata": {
      "needs_background": "light"
     },
     "output_type": "display_data"
    },
    {
     "data": {
      "image/png": "[encoded data removed]",
      "text/plain": [
       "<Figure size 432x288 with 1 Axes>"
      ]
     },
     "metadata": {
      "needs_background": "light"
     },
     "output_type": "display_data"
    },
    {
     "data": {
      "image/png": "[encoded data removed]",
      "text/plain": [
       "<Figure size 432x288 with 1 Axes>"
      ]
     },
     "metadata": {
      "needs_background": "light"
     },
     "output_type": "display_data"
    }
   ],
   "source": [
    "for feature in continuous_feature:\n",
    "    kc1=kcfe.copy()\n",
    "    if 0 in kc1[feature].unique():\n",
    "        pass\n",
    "    else:\n",
    "        kc1[feature]=np.log(kc1[feature])\n",
    "        kc1.boxplot(column=feature)\n",
    "        plt.ylabel(feature)\n",
    "        plt.show()      \n",
    "    "
   ]
  },
  {
   "cell_type": "markdown",
   "metadata": {},
   "source": [
    "#### Observation \n",
    "* Since there are a number of outliers for the said features it will be advisable to use median"
   ]
  },
  {
   "cell_type": "markdown",
   "metadata": {},
   "source": [
    "### Categorical features \n",
    "* ReChecking to take care of string columns "
   ]
  },
  {
   "cell_type": "code",
   "execution_count": 22,
   "metadata": {
    "ExecuteTime": {
     "end_time": "2020-10-28T03:30:30.930611Z",
     "start_time": "2020-10-28T03:30:30.920618Z"
    }
   },
   "outputs": [
    {
     "data": {
      "text/plain": [
       "[]"
      ]
     },
     "execution_count": 22,
     "metadata": {},
     "output_type": "execute_result"
    }
   ],
   "source": [
    "categorical_features = [feature for feature in kc1.columns if kc1[feature].dtypes == 'O'] \n",
    "categorical_features"
   ]
  },
  {
   "cell_type": "code",
   "execution_count": 23,
   "metadata": {
    "ExecuteTime": {
     "end_time": "2020-10-28T03:30:31.078660Z",
     "start_time": "2020-10-28T03:30:30.933611Z"
    }
   },
   "outputs": [
    {
     "data": {
      "text/html": [
       "<div>\n",
       "<style scoped>\n",
       "    .dataframe tbody tr th:only-of-type {\n",
       "        vertical-align: middle;\n",
       "    }\n",
       "\n",
       "    .dataframe tbody tr th {\n",
       "        vertical-align: top;\n",
       "    }\n",
       "\n",
       "    .dataframe thead th {\n",
       "        text-align: right;\n",
       "    }\n",
       "</style>\n",
       "<table border=\"1\" class=\"dataframe\">\n",
       "  <thead>\n",
       "    <tr style=\"text-align: right;\">\n",
       "      <th></th>\n",
       "    </tr>\n",
       "  </thead>\n",
       "  <tbody>\n",
       "    <tr>\n",
       "      <td>0</td>\n",
       "    </tr>\n",
       "    <tr>\n",
       "      <td>1</td>\n",
       "    </tr>\n",
       "    <tr>\n",
       "      <td>2</td>\n",
       "    </tr>\n",
       "    <tr>\n",
       "      <td>3</td>\n",
       "    </tr>\n",
       "    <tr>\n",
       "      <td>4</td>\n",
       "    </tr>\n",
       "    <tr>\n",
       "      <td>...</td>\n",
       "    </tr>\n",
       "    <tr>\n",
       "      <td>21592</td>\n",
       "    </tr>\n",
       "    <tr>\n",
       "      <td>21593</td>\n",
       "    </tr>\n",
       "    <tr>\n",
       "      <td>21594</td>\n",
       "    </tr>\n",
       "    <tr>\n",
       "      <td>21595</td>\n",
       "    </tr>\n",
       "    <tr>\n",
       "      <td>21596</td>\n",
       "    </tr>\n",
       "  </tbody>\n",
       "</table>\n",
       "<p>21597 rows × 0 columns</p>\n",
       "</div>"
      ],
      "text/plain": [
       "Empty DataFrame\n",
       "Columns: []\n",
       "Index: [0, 1, 2, 3, 4, 5, 6, 7, 8, 9, 10, 11, 12, 13, 14, 15, 16, 17, 18, 19, 20, 21, 22, 23, 24, 25, 26, 27, 28, 29, 30, 31, 32, 33, 34, 35, 36, 37, 38, 39, 40, 41, 42, 43, 44, 45, 46, 47, 48, 49, 50, 51, 52, 53, 54, 55, 56, 57, 58, 59, 60, 61, 62, 63, 64, 65, 66, 67, 68, 69, 70, 71, 72, 73, 74, 75, 76, 77, 78, 79, 80, 81, 82, 83, 84, 85, 86, 87, 88, 89, 90, 91, 92, 93, 94, 95, 96, 97, 98, 99, ...]\n",
       "\n",
       "[21597 rows x 0 columns]"
      ]
     },
     "execution_count": 23,
     "metadata": {},
     "output_type": "execute_result"
    }
   ],
   "source": [
    "kc1[categorical_features].nunique()"
   ]
  },
  {
   "cell_type": "code",
   "execution_count": 24,
   "metadata": {
    "ExecuteTime": {
     "end_time": "2020-10-28T03:30:31.146662Z",
     "start_time": "2020-10-28T03:30:31.101636Z"
    }
   },
   "outputs": [],
   "source": [
    "for feature in categorical_features:\n",
    "    print ('The feature is {} and number of categories are {}'.format(feature,len(kc1[feature].unique()))) "
   ]
  },
  {
   "cell_type": "markdown",
   "metadata": {},
   "source": [
    "#### Observation : there are no column's with string values"
   ]
  },
  {
   "cell_type": "markdown",
   "metadata": {},
   "source": [
    "#### checking Histograms pre feature engineering"
   ]
  },
  {
   "cell_type": "code",
   "execution_count": 25,
   "metadata": {
    "ExecuteTime": {
     "end_time": "2020-10-28T03:30:36.842729Z",
     "start_time": "2020-10-28T03:30:31.151660Z"
    }
   },
   "outputs": [
    {
     "data": {
      "image/png": "[encoded data removed]",
      "text/plain": [
       "<Figure size 2160x1440 with 30 Axes>"
      ]
     },
     "metadata": {
      "needs_background": "light"
     },
     "output_type": "display_data"
    }
   ],
   "source": [
    "kc1.hist(figsize=(30,20))\n",
    "plt.show()"
   ]
  },
  {
   "cell_type": "code",
   "execution_count": 26,
   "metadata": {
    "ExecuteTime": {
     "end_time": "2020-10-28T03:30:36.870712Z",
     "start_time": "2020-10-28T03:30:36.845727Z"
    }
   },
   "outputs": [],
   "source": [
    "# For checking nan values  \n",
    "features_nan = [feature for feature in kcfe.columns if kcfe[feature].isnull().sum()>1 and kcfe[feature].dtypes == 'O'] \n",
    "\n",
    "for feature in features_nan:\n",
    "    print(\"{}:{}% missing values\".format(feature,np.round(kcfe[feature].isnull().mean(),2))) ## upto two decimal place"
   ]
  },
  {
   "cell_type": "code",
   "execution_count": 27,
   "metadata": {
    "ExecuteTime": {
     "end_time": "2020-10-28T03:30:36.937675Z",
     "start_time": "2020-10-28T03:30:36.873710Z"
    }
   },
   "outputs": [
    {
     "data": {
      "text/plain": [
       "Series([], dtype: float64)"
      ]
     },
     "execution_count": 27,
     "metadata": {},
     "output_type": "execute_result"
    }
   ],
   "source": [
    "## to replace missing values\n",
    "\n",
    "def replace_cat_feature(kcfe,features_nan):\n",
    "    kcfe1=kcfe.copy()\n",
    "    kcfe1[features_nan]=kcfe1[features_nan].fillna('missing')\n",
    "    return kcfe1\n",
    "kcfe=replace_cat_feature(kcfe,features_nan)\n",
    "kcfe[features_nan].isnull().sum() "
   ]
  },
  {
   "cell_type": "code",
   "execution_count": 28,
   "metadata": {
    "ExecuteTime": {
     "end_time": "2020-10-28T03:30:37.041613Z",
     "start_time": "2020-10-28T03:30:36.940673Z"
    }
   },
   "outputs": [],
   "source": [
    "# For checking nan values  \n",
    "num_nan = [feature for feature in kcfe.columns if kcfe[feature].isnull().sum()>1 and kcfe[feature].dtypes != 'O'] \n",
    "\n",
    "for feature in num_nan:\n",
    "    print(\"{}:{}% missing values\".format(feature,np.round(kcfe[feature].isnull().mean(),2))) ## upto two decimal place"
   ]
  },
  {
   "cell_type": "code",
   "execution_count": 29,
   "metadata": {
    "ExecuteTime": {
     "end_time": "2020-10-28T03:30:37.141556Z",
     "start_time": "2020-10-28T03:30:37.043612Z"
    }
   },
   "outputs": [
    {
     "data": {
      "text/plain": [
       "Series([], dtype: float64)"
      ]
     },
     "execution_count": 29,
     "metadata": {},
     "output_type": "execute_result"
    }
   ],
   "source": [
    "## replacing numerical missing value\n",
    "for feature in num_nan:\n",
    "    ## replacing using median to take care of outliers\n",
    "    median_value=kcfe[feature].median() \n",
    "    ## creating a new feature to capture nan values\n",
    "    kcfe[feature+'nan']=np.where(kcfe[feature].isnull(),1,0)\n",
    "    kcfe[feature].fillna(median_value,inplace=True)\n",
    "kcfe[num_nan].isnull().sum() "
   ]
  },
  {
   "cell_type": "code",
   "execution_count": 30,
   "metadata": {
    "ExecuteTime": {
     "end_time": "2020-10-28T03:30:37.244499Z",
     "start_time": "2020-10-28T03:30:37.144556Z"
    }
   },
   "outputs": [
    {
     "data": {
      "text/plain": [
       "id                      0\n",
       "price                   0\n",
       "bedrooms                0\n",
       "bathrooms               0\n",
       "sqft_living             0\n",
       "sqft_lot                0\n",
       "floors                  0\n",
       "waterfront              0\n",
       "view                    0\n",
       "condition               0\n",
       "grade                   0\n",
       "sqft_above              0\n",
       "sqft_basement           0\n",
       "yr_built                0\n",
       "yr_renovated            0\n",
       "zipcode                 0\n",
       "lat                     0\n",
       "long                    0\n",
       "sqft_living15           0\n",
       "sqft_lot15              0\n",
       "year                    0\n",
       "month                   0\n",
       "day                     0\n",
       "yr_age_of_house         0\n",
       "yr_age_of_renovation    0\n",
       "price_in_millions       0\n",
       "dtype: int64"
      ]
     },
     "execution_count": 30,
     "metadata": {},
     "output_type": "execute_result"
    }
   ],
   "source": [
    "kcfe.isnull().sum() "
   ]
  },
  {
   "cell_type": "code",
   "execution_count": 31,
   "metadata": {
    "ExecuteTime": {
     "end_time": "2020-10-28T03:30:37.364429Z",
     "start_time": "2020-10-28T03:30:37.248495Z"
    }
   },
   "outputs": [
    {
     "data": {
      "text/html": [
       "<div>\n",
       "<style scoped>\n",
       "    .dataframe tbody tr th:only-of-type {\n",
       "        vertical-align: middle;\n",
       "    }\n",
       "\n",
       "    .dataframe tbody tr th {\n",
       "        vertical-align: top;\n",
       "    }\n",
       "\n",
       "    .dataframe thead th {\n",
       "        text-align: right;\n",
       "    }\n",
       "</style>\n",
       "<table border=\"1\" class=\"dataframe\">\n",
       "  <thead>\n",
       "    <tr style=\"text-align: right;\">\n",
       "      <th></th>\n",
       "      <th>id</th>\n",
       "      <th>price</th>\n",
       "      <th>bedrooms</th>\n",
       "      <th>bathrooms</th>\n",
       "      <th>sqft_living</th>\n",
       "      <th>sqft_lot</th>\n",
       "      <th>floors</th>\n",
       "      <th>waterfront</th>\n",
       "      <th>view</th>\n",
       "      <th>condition</th>\n",
       "      <th>grade</th>\n",
       "      <th>sqft_above</th>\n",
       "      <th>sqft_basement</th>\n",
       "      <th>yr_built</th>\n",
       "      <th>yr_renovated</th>\n",
       "      <th>zipcode</th>\n",
       "      <th>lat</th>\n",
       "      <th>long</th>\n",
       "      <th>sqft_living15</th>\n",
       "      <th>sqft_lot15</th>\n",
       "      <th>year</th>\n",
       "      <th>month</th>\n",
       "      <th>day</th>\n",
       "      <th>yr_age_of_house</th>\n",
       "      <th>yr_age_of_renovation</th>\n",
       "      <th>price_in_millions</th>\n",
       "    </tr>\n",
       "  </thead>\n",
       "  <tbody>\n",
       "    <tr>\n",
       "      <td>0</td>\n",
       "      <td>7129300520</td>\n",
       "      <td>221900.0</td>\n",
       "      <td>3</td>\n",
       "      <td>1.00</td>\n",
       "      <td>1180</td>\n",
       "      <td>5650</td>\n",
       "      <td>1.0</td>\n",
       "      <td>0.0</td>\n",
       "      <td>0.0</td>\n",
       "      <td>3</td>\n",
       "      <td>7</td>\n",
       "      <td>1180</td>\n",
       "      <td>0.0</td>\n",
       "      <td>1955</td>\n",
       "      <td>1951.0</td>\n",
       "      <td>98178</td>\n",
       "      <td>47.5112</td>\n",
       "      <td>-122.257</td>\n",
       "      <td>1340</td>\n",
       "      <td>5650</td>\n",
       "      <td>2014</td>\n",
       "      <td>10</td>\n",
       "      <td>13</td>\n",
       "      <td>59</td>\n",
       "      <td>0.0</td>\n",
       "      <td>0.2219</td>\n",
       "    </tr>\n",
       "    <tr>\n",
       "      <td>1</td>\n",
       "      <td>6414100192</td>\n",
       "      <td>538000.0</td>\n",
       "      <td>3</td>\n",
       "      <td>2.25</td>\n",
       "      <td>2570</td>\n",
       "      <td>7242</td>\n",
       "      <td>2.0</td>\n",
       "      <td>0.0</td>\n",
       "      <td>0.0</td>\n",
       "      <td>3</td>\n",
       "      <td>7</td>\n",
       "      <td>2170</td>\n",
       "      <td>400.0</td>\n",
       "      <td>1951</td>\n",
       "      <td>1991.0</td>\n",
       "      <td>98125</td>\n",
       "      <td>47.7210</td>\n",
       "      <td>-122.319</td>\n",
       "      <td>1690</td>\n",
       "      <td>7639</td>\n",
       "      <td>2014</td>\n",
       "      <td>12</td>\n",
       "      <td>9</td>\n",
       "      <td>63</td>\n",
       "      <td>40.0</td>\n",
       "      <td>0.5380</td>\n",
       "    </tr>\n",
       "  </tbody>\n",
       "</table>\n",
       "</div>"
      ],
      "text/plain": [
       "           id     price  bedrooms  bathrooms  sqft_living  sqft_lot  floors  \\\n",
       "0  7129300520  221900.0         3       1.00         1180      5650     1.0   \n",
       "1  6414100192  538000.0         3       2.25         2570      7242     2.0   \n",
       "\n",
       "   waterfront  view  condition  grade  sqft_above  sqft_basement  yr_built  \\\n",
       "0         0.0   0.0          3      7        1180            0.0      1955   \n",
       "1         0.0   0.0          3      7        2170          400.0      1951   \n",
       "\n",
       "   yr_renovated  zipcode      lat     long  sqft_living15  sqft_lot15  year  \\\n",
       "0        1951.0    98178  47.5112 -122.257           1340        5650  2014   \n",
       "1        1991.0    98125  47.7210 -122.319           1690        7639  2014   \n",
       "\n",
       "   month  day  yr_age_of_house  yr_age_of_renovation  price_in_millions  \n",
       "0     10   13               59                   0.0             0.2219  \n",
       "1     12    9               63                  40.0             0.5380  "
      ]
     },
     "execution_count": 31,
     "metadata": {},
     "output_type": "execute_result"
    }
   ],
   "source": [
    "kcfe.head(2) "
   ]
  },
  {
   "cell_type": "code",
   "execution_count": 32,
   "metadata": {
    "ExecuteTime": {
     "end_time": "2020-10-28T03:30:37.477364Z",
     "start_time": "2020-10-28T03:30:37.368426Z"
    }
   },
   "outputs": [
    {
     "data": {
      "text/html": [
       "<div>\n",
       "<style scoped>\n",
       "    .dataframe tbody tr th:only-of-type {\n",
       "        vertical-align: middle;\n",
       "    }\n",
       "\n",
       "    .dataframe tbody tr th {\n",
       "        vertical-align: top;\n",
       "    }\n",
       "\n",
       "    .dataframe thead th {\n",
       "        text-align: right;\n",
       "    }\n",
       "</style>\n",
       "<table border=\"1\" class=\"dataframe\">\n",
       "  <thead>\n",
       "    <tr style=\"text-align: right;\">\n",
       "      <th></th>\n",
       "      <th>yr_built</th>\n",
       "      <th>yr_renovated</th>\n",
       "      <th>year</th>\n",
       "      <th>month</th>\n",
       "      <th>day</th>\n",
       "      <th>yr_age_of_house</th>\n",
       "      <th>yr_age_of_renovation</th>\n",
       "    </tr>\n",
       "  </thead>\n",
       "  <tbody>\n",
       "    <tr>\n",
       "      <td>0</td>\n",
       "      <td>1955</td>\n",
       "      <td>1951.0</td>\n",
       "      <td>2014</td>\n",
       "      <td>10</td>\n",
       "      <td>13</td>\n",
       "      <td>59</td>\n",
       "      <td>0.0</td>\n",
       "    </tr>\n",
       "    <tr>\n",
       "      <td>1</td>\n",
       "      <td>1951</td>\n",
       "      <td>1991.0</td>\n",
       "      <td>2014</td>\n",
       "      <td>12</td>\n",
       "      <td>9</td>\n",
       "      <td>63</td>\n",
       "      <td>40.0</td>\n",
       "    </tr>\n",
       "  </tbody>\n",
       "</table>\n",
       "</div>"
      ],
      "text/plain": [
       "   yr_built  yr_renovated  year  month  day  yr_age_of_house  \\\n",
       "0      1955        1951.0  2014     10   13               59   \n",
       "1      1951        1991.0  2014     12    9               63   \n",
       "\n",
       "   yr_age_of_renovation  \n",
       "0                   0.0  \n",
       "1                  40.0  "
      ]
     },
     "execution_count": 32,
     "metadata": {},
     "output_type": "execute_result"
    }
   ],
   "source": [
    "kcfe[yr_feature].head(2) "
   ]
  },
  {
   "cell_type": "code",
   "execution_count": 33,
   "metadata": {
    "ExecuteTime": {
     "end_time": "2020-10-28T03:30:37.566314Z",
     "start_time": "2020-10-28T03:30:37.480363Z"
    }
   },
   "outputs": [
    {
     "data": {
      "text/html": [
       "<div>\n",
       "<style scoped>\n",
       "    .dataframe tbody tr th:only-of-type {\n",
       "        vertical-align: middle;\n",
       "    }\n",
       "\n",
       "    .dataframe tbody tr th {\n",
       "        vertical-align: top;\n",
       "    }\n",
       "\n",
       "    .dataframe thead th {\n",
       "        text-align: right;\n",
       "    }\n",
       "</style>\n",
       "<table border=\"1\" class=\"dataframe\">\n",
       "  <thead>\n",
       "    <tr style=\"text-align: right;\">\n",
       "      <th></th>\n",
       "      <th>yr_built</th>\n",
       "      <th>yr_age_of_house</th>\n",
       "      <th>year</th>\n",
       "      <th>month</th>\n",
       "      <th>day</th>\n",
       "      <th>yr_renovated</th>\n",
       "      <th>yr_age_of_renovation</th>\n",
       "    </tr>\n",
       "  </thead>\n",
       "  <tbody>\n",
       "    <tr>\n",
       "      <td>0</td>\n",
       "      <td>1955</td>\n",
       "      <td>59</td>\n",
       "      <td>2014</td>\n",
       "      <td>10</td>\n",
       "      <td>13</td>\n",
       "      <td>1951.0</td>\n",
       "      <td>0.0</td>\n",
       "    </tr>\n",
       "    <tr>\n",
       "      <td>1</td>\n",
       "      <td>1951</td>\n",
       "      <td>63</td>\n",
       "      <td>2014</td>\n",
       "      <td>12</td>\n",
       "      <td>9</td>\n",
       "      <td>1991.0</td>\n",
       "      <td>40.0</td>\n",
       "    </tr>\n",
       "  </tbody>\n",
       "</table>\n",
       "</div>"
      ],
      "text/plain": [
       "   yr_built  yr_age_of_house  year  month  day  yr_renovated  \\\n",
       "0      1955               59  2014     10   13        1951.0   \n",
       "1      1951               63  2014     12    9        1991.0   \n",
       "\n",
       "   yr_age_of_renovation  \n",
       "0                   0.0  \n",
       "1                  40.0  "
      ]
     },
     "execution_count": 33,
     "metadata": {},
     "output_type": "execute_result"
    }
   ],
   "source": [
    "kcfe[['yr_built','yr_age_of_house','year','month','day','yr_renovated','yr_age_of_renovation']].head(2)  "
   ]
  },
  {
   "cell_type": "code",
   "execution_count": 34,
   "metadata": {
    "ExecuteTime": {
     "end_time": "2020-10-28T03:30:37.688243Z",
     "start_time": "2020-10-28T03:30:37.569312Z"
    }
   },
   "outputs": [
    {
     "data": {
      "text/html": [
       "<div>\n",
       "<style scoped>\n",
       "    .dataframe tbody tr th:only-of-type {\n",
       "        vertical-align: middle;\n",
       "    }\n",
       "\n",
       "    .dataframe tbody tr th {\n",
       "        vertical-align: top;\n",
       "    }\n",
       "\n",
       "    .dataframe thead th {\n",
       "        text-align: right;\n",
       "    }\n",
       "</style>\n",
       "<table border=\"1\" class=\"dataframe\">\n",
       "  <thead>\n",
       "    <tr style=\"text-align: right;\">\n",
       "      <th></th>\n",
       "      <th>id</th>\n",
       "      <th>price</th>\n",
       "      <th>bedrooms</th>\n",
       "      <th>bathrooms</th>\n",
       "      <th>sqft_living</th>\n",
       "      <th>sqft_lot</th>\n",
       "      <th>floors</th>\n",
       "      <th>waterfront</th>\n",
       "      <th>view</th>\n",
       "      <th>condition</th>\n",
       "      <th>grade</th>\n",
       "      <th>sqft_above</th>\n",
       "      <th>sqft_basement</th>\n",
       "      <th>yr_built</th>\n",
       "      <th>yr_renovated</th>\n",
       "      <th>zipcode</th>\n",
       "      <th>lat</th>\n",
       "      <th>long</th>\n",
       "      <th>sqft_living15</th>\n",
       "      <th>sqft_lot15</th>\n",
       "      <th>year</th>\n",
       "      <th>month</th>\n",
       "      <th>day</th>\n",
       "      <th>yr_age_of_house</th>\n",
       "      <th>yr_age_of_renovation</th>\n",
       "      <th>price_in_millions</th>\n",
       "    </tr>\n",
       "  </thead>\n",
       "  <tbody>\n",
       "    <tr>\n",
       "      <td>0</td>\n",
       "      <td>7129300520</td>\n",
       "      <td>221900.0</td>\n",
       "      <td>3</td>\n",
       "      <td>1.00</td>\n",
       "      <td>1180</td>\n",
       "      <td>5650</td>\n",
       "      <td>1.0</td>\n",
       "      <td>0.0</td>\n",
       "      <td>0.0</td>\n",
       "      <td>3</td>\n",
       "      <td>7</td>\n",
       "      <td>1180</td>\n",
       "      <td>0.0</td>\n",
       "      <td>1955</td>\n",
       "      <td>1951.0</td>\n",
       "      <td>98178</td>\n",
       "      <td>47.5112</td>\n",
       "      <td>-122.257</td>\n",
       "      <td>1340</td>\n",
       "      <td>5650</td>\n",
       "      <td>2014</td>\n",
       "      <td>10</td>\n",
       "      <td>13</td>\n",
       "      <td>59</td>\n",
       "      <td>0.0</td>\n",
       "      <td>0.2219</td>\n",
       "    </tr>\n",
       "    <tr>\n",
       "      <td>1</td>\n",
       "      <td>6414100192</td>\n",
       "      <td>538000.0</td>\n",
       "      <td>3</td>\n",
       "      <td>2.25</td>\n",
       "      <td>2570</td>\n",
       "      <td>7242</td>\n",
       "      <td>2.0</td>\n",
       "      <td>0.0</td>\n",
       "      <td>0.0</td>\n",
       "      <td>3</td>\n",
       "      <td>7</td>\n",
       "      <td>2170</td>\n",
       "      <td>400.0</td>\n",
       "      <td>1951</td>\n",
       "      <td>1991.0</td>\n",
       "      <td>98125</td>\n",
       "      <td>47.7210</td>\n",
       "      <td>-122.319</td>\n",
       "      <td>1690</td>\n",
       "      <td>7639</td>\n",
       "      <td>2014</td>\n",
       "      <td>12</td>\n",
       "      <td>9</td>\n",
       "      <td>63</td>\n",
       "      <td>40.0</td>\n",
       "      <td>0.5380</td>\n",
       "    </tr>\n",
       "    <tr>\n",
       "      <td>2</td>\n",
       "      <td>5631500400</td>\n",
       "      <td>180000.0</td>\n",
       "      <td>2</td>\n",
       "      <td>1.00</td>\n",
       "      <td>770</td>\n",
       "      <td>10000</td>\n",
       "      <td>1.0</td>\n",
       "      <td>0.0</td>\n",
       "      <td>0.0</td>\n",
       "      <td>3</td>\n",
       "      <td>6</td>\n",
       "      <td>770</td>\n",
       "      <td>0.0</td>\n",
       "      <td>1933</td>\n",
       "      <td>1933.0</td>\n",
       "      <td>98028</td>\n",
       "      <td>47.7379</td>\n",
       "      <td>-122.233</td>\n",
       "      <td>2720</td>\n",
       "      <td>8062</td>\n",
       "      <td>2015</td>\n",
       "      <td>2</td>\n",
       "      <td>25</td>\n",
       "      <td>82</td>\n",
       "      <td>0.0</td>\n",
       "      <td>0.1800</td>\n",
       "    </tr>\n",
       "    <tr>\n",
       "      <td>3</td>\n",
       "      <td>2487200875</td>\n",
       "      <td>604000.0</td>\n",
       "      <td>4</td>\n",
       "      <td>3.00</td>\n",
       "      <td>1960</td>\n",
       "      <td>5000</td>\n",
       "      <td>1.0</td>\n",
       "      <td>0.0</td>\n",
       "      <td>0.0</td>\n",
       "      <td>5</td>\n",
       "      <td>7</td>\n",
       "      <td>1050</td>\n",
       "      <td>910.0</td>\n",
       "      <td>1965</td>\n",
       "      <td>1987.0</td>\n",
       "      <td>98136</td>\n",
       "      <td>47.5208</td>\n",
       "      <td>-122.393</td>\n",
       "      <td>1360</td>\n",
       "      <td>5000</td>\n",
       "      <td>2014</td>\n",
       "      <td>12</td>\n",
       "      <td>9</td>\n",
       "      <td>49</td>\n",
       "      <td>22.0</td>\n",
       "      <td>0.6040</td>\n",
       "    </tr>\n",
       "    <tr>\n",
       "      <td>4</td>\n",
       "      <td>1954400510</td>\n",
       "      <td>510000.0</td>\n",
       "      <td>3</td>\n",
       "      <td>2.00</td>\n",
       "      <td>1680</td>\n",
       "      <td>8080</td>\n",
       "      <td>1.0</td>\n",
       "      <td>0.0</td>\n",
       "      <td>0.0</td>\n",
       "      <td>3</td>\n",
       "      <td>8</td>\n",
       "      <td>1680</td>\n",
       "      <td>0.0</td>\n",
       "      <td>1987</td>\n",
       "      <td>2001.0</td>\n",
       "      <td>98074</td>\n",
       "      <td>47.6168</td>\n",
       "      <td>-122.045</td>\n",
       "      <td>1800</td>\n",
       "      <td>7503</td>\n",
       "      <td>2015</td>\n",
       "      <td>2</td>\n",
       "      <td>18</td>\n",
       "      <td>28</td>\n",
       "      <td>14.0</td>\n",
       "      <td>0.5100</td>\n",
       "    </tr>\n",
       "  </tbody>\n",
       "</table>\n",
       "</div>"
      ],
      "text/plain": [
       "           id     price  bedrooms  bathrooms  sqft_living  sqft_lot  floors  \\\n",
       "0  7129300520  221900.0         3       1.00         1180      5650     1.0   \n",
       "1  6414100192  538000.0         3       2.25         2570      7242     2.0   \n",
       "2  5631500400  180000.0         2       1.00          770     10000     1.0   \n",
       "3  2487200875  604000.0         4       3.00         1960      5000     1.0   \n",
       "4  1954400510  510000.0         3       2.00         1680      8080     1.0   \n",
       "\n",
       "   waterfront  view  condition  grade  sqft_above  sqft_basement  yr_built  \\\n",
       "0         0.0   0.0          3      7        1180            0.0      1955   \n",
       "1         0.0   0.0          3      7        2170          400.0      1951   \n",
       "2         0.0   0.0          3      6         770            0.0      1933   \n",
       "3         0.0   0.0          5      7        1050          910.0      1965   \n",
       "4         0.0   0.0          3      8        1680            0.0      1987   \n",
       "\n",
       "   yr_renovated  zipcode      lat     long  sqft_living15  sqft_lot15  year  \\\n",
       "0        1951.0    98178  47.5112 -122.257           1340        5650  2014   \n",
       "1        1991.0    98125  47.7210 -122.319           1690        7639  2014   \n",
       "2        1933.0    98028  47.7379 -122.233           2720        8062  2015   \n",
       "3        1987.0    98136  47.5208 -122.393           1360        5000  2014   \n",
       "4        2001.0    98074  47.6168 -122.045           1800        7503  2015   \n",
       "\n",
       "   month  day  yr_age_of_house  yr_age_of_renovation  price_in_millions  \n",
       "0     10   13               59                   0.0             0.2219  \n",
       "1     12    9               63                  40.0             0.5380  \n",
       "2      2   25               82                   0.0             0.1800  \n",
       "3     12    9               49                  22.0             0.6040  \n",
       "4      2   18               28                  14.0             0.5100  "
      ]
     },
     "execution_count": 34,
     "metadata": {},
     "output_type": "execute_result"
    }
   ],
   "source": [
    "kcfe[num_features].head() "
   ]
  },
  {
   "cell_type": "code",
   "execution_count": 35,
   "metadata": {
    "ExecuteTime": {
     "end_time": "2020-10-28T03:30:37.833160Z",
     "start_time": "2020-10-28T03:30:37.691242Z"
    }
   },
   "outputs": [],
   "source": [
    "num_features1 = ['sqft_lot','sqft_living15','sqft_lot15', 'sqft_living', 'sqft_above', 'price']\n",
    "for feature in num_features1:\n",
    "    kcfe[feature]=np.log(kcfe[feature]) \n"
   ]
  },
  {
   "cell_type": "markdown",
   "metadata": {},
   "source": [
    "#### sqft_basement is not considered above as it has zero as value in it"
   ]
  },
  {
   "cell_type": "code",
   "execution_count": 36,
   "metadata": {
    "ExecuteTime": {
     "end_time": "2020-10-28T03:30:37.956219Z",
     "start_time": "2020-10-28T03:30:37.836159Z"
    }
   },
   "outputs": [
    {
     "data": {
      "text/html": [
       "<div>\n",
       "<style scoped>\n",
       "    .dataframe tbody tr th:only-of-type {\n",
       "        vertical-align: middle;\n",
       "    }\n",
       "\n",
       "    .dataframe tbody tr th {\n",
       "        vertical-align: top;\n",
       "    }\n",
       "\n",
       "    .dataframe thead th {\n",
       "        text-align: right;\n",
       "    }\n",
       "</style>\n",
       "<table border=\"1\" class=\"dataframe\">\n",
       "  <thead>\n",
       "    <tr style=\"text-align: right;\">\n",
       "      <th></th>\n",
       "      <th>id</th>\n",
       "      <th>price</th>\n",
       "      <th>bedrooms</th>\n",
       "      <th>bathrooms</th>\n",
       "      <th>sqft_living</th>\n",
       "      <th>sqft_lot</th>\n",
       "      <th>floors</th>\n",
       "      <th>waterfront</th>\n",
       "      <th>view</th>\n",
       "      <th>condition</th>\n",
       "      <th>grade</th>\n",
       "      <th>sqft_above</th>\n",
       "      <th>sqft_basement</th>\n",
       "      <th>yr_built</th>\n",
       "      <th>yr_renovated</th>\n",
       "      <th>zipcode</th>\n",
       "      <th>lat</th>\n",
       "      <th>long</th>\n",
       "      <th>sqft_living15</th>\n",
       "      <th>sqft_lot15</th>\n",
       "      <th>year</th>\n",
       "      <th>month</th>\n",
       "      <th>day</th>\n",
       "      <th>yr_age_of_house</th>\n",
       "      <th>yr_age_of_renovation</th>\n",
       "      <th>price_in_millions</th>\n",
       "    </tr>\n",
       "  </thead>\n",
       "  <tbody>\n",
       "    <tr>\n",
       "      <td>0</td>\n",
       "      <td>7129300520</td>\n",
       "      <td>12.309982</td>\n",
       "      <td>3</td>\n",
       "      <td>1.00</td>\n",
       "      <td>7.073270</td>\n",
       "      <td>8.639411</td>\n",
       "      <td>1.0</td>\n",
       "      <td>0.0</td>\n",
       "      <td>0.0</td>\n",
       "      <td>3</td>\n",
       "      <td>7</td>\n",
       "      <td>7.073270</td>\n",
       "      <td>0.0</td>\n",
       "      <td>1955</td>\n",
       "      <td>1951.0</td>\n",
       "      <td>98178</td>\n",
       "      <td>47.5112</td>\n",
       "      <td>-122.257</td>\n",
       "      <td>7.200425</td>\n",
       "      <td>8.639411</td>\n",
       "      <td>2014</td>\n",
       "      <td>10</td>\n",
       "      <td>13</td>\n",
       "      <td>59</td>\n",
       "      <td>0.0</td>\n",
       "      <td>0.2219</td>\n",
       "    </tr>\n",
       "    <tr>\n",
       "      <td>1</td>\n",
       "      <td>6414100192</td>\n",
       "      <td>13.195614</td>\n",
       "      <td>3</td>\n",
       "      <td>2.25</td>\n",
       "      <td>7.851661</td>\n",
       "      <td>8.887653</td>\n",
       "      <td>2.0</td>\n",
       "      <td>0.0</td>\n",
       "      <td>0.0</td>\n",
       "      <td>3</td>\n",
       "      <td>7</td>\n",
       "      <td>7.682482</td>\n",
       "      <td>400.0</td>\n",
       "      <td>1951</td>\n",
       "      <td>1991.0</td>\n",
       "      <td>98125</td>\n",
       "      <td>47.7210</td>\n",
       "      <td>-122.319</td>\n",
       "      <td>7.432484</td>\n",
       "      <td>8.941022</td>\n",
       "      <td>2014</td>\n",
       "      <td>12</td>\n",
       "      <td>9</td>\n",
       "      <td>63</td>\n",
       "      <td>40.0</td>\n",
       "      <td>0.5380</td>\n",
       "    </tr>\n",
       "    <tr>\n",
       "      <td>2</td>\n",
       "      <td>5631500400</td>\n",
       "      <td>12.100712</td>\n",
       "      <td>2</td>\n",
       "      <td>1.00</td>\n",
       "      <td>6.646391</td>\n",
       "      <td>9.210340</td>\n",
       "      <td>1.0</td>\n",
       "      <td>0.0</td>\n",
       "      <td>0.0</td>\n",
       "      <td>3</td>\n",
       "      <td>6</td>\n",
       "      <td>6.646391</td>\n",
       "      <td>0.0</td>\n",
       "      <td>1933</td>\n",
       "      <td>1933.0</td>\n",
       "      <td>98028</td>\n",
       "      <td>47.7379</td>\n",
       "      <td>-122.233</td>\n",
       "      <td>7.908387</td>\n",
       "      <td>8.994917</td>\n",
       "      <td>2015</td>\n",
       "      <td>2</td>\n",
       "      <td>25</td>\n",
       "      <td>82</td>\n",
       "      <td>0.0</td>\n",
       "      <td>0.1800</td>\n",
       "    </tr>\n",
       "    <tr>\n",
       "      <td>3</td>\n",
       "      <td>2487200875</td>\n",
       "      <td>13.311329</td>\n",
       "      <td>4</td>\n",
       "      <td>3.00</td>\n",
       "      <td>7.580700</td>\n",
       "      <td>8.517193</td>\n",
       "      <td>1.0</td>\n",
       "      <td>0.0</td>\n",
       "      <td>0.0</td>\n",
       "      <td>5</td>\n",
       "      <td>7</td>\n",
       "      <td>6.956545</td>\n",
       "      <td>910.0</td>\n",
       "      <td>1965</td>\n",
       "      <td>1987.0</td>\n",
       "      <td>98136</td>\n",
       "      <td>47.5208</td>\n",
       "      <td>-122.393</td>\n",
       "      <td>7.215240</td>\n",
       "      <td>8.517193</td>\n",
       "      <td>2014</td>\n",
       "      <td>12</td>\n",
       "      <td>9</td>\n",
       "      <td>49</td>\n",
       "      <td>22.0</td>\n",
       "      <td>0.6040</td>\n",
       "    </tr>\n",
       "    <tr>\n",
       "      <td>4</td>\n",
       "      <td>1954400510</td>\n",
       "      <td>13.142166</td>\n",
       "      <td>3</td>\n",
       "      <td>2.00</td>\n",
       "      <td>7.426549</td>\n",
       "      <td>8.997147</td>\n",
       "      <td>1.0</td>\n",
       "      <td>0.0</td>\n",
       "      <td>0.0</td>\n",
       "      <td>3</td>\n",
       "      <td>8</td>\n",
       "      <td>7.426549</td>\n",
       "      <td>0.0</td>\n",
       "      <td>1987</td>\n",
       "      <td>2001.0</td>\n",
       "      <td>98074</td>\n",
       "      <td>47.6168</td>\n",
       "      <td>-122.045</td>\n",
       "      <td>7.495542</td>\n",
       "      <td>8.923058</td>\n",
       "      <td>2015</td>\n",
       "      <td>2</td>\n",
       "      <td>18</td>\n",
       "      <td>28</td>\n",
       "      <td>14.0</td>\n",
       "      <td>0.5100</td>\n",
       "    </tr>\n",
       "  </tbody>\n",
       "</table>\n",
       "</div>"
      ],
      "text/plain": [
       "           id      price  bedrooms  bathrooms  sqft_living  sqft_lot  floors  \\\n",
       "0  7129300520  12.309982         3       1.00     7.073270  8.639411     1.0   \n",
       "1  6414100192  13.195614         3       2.25     7.851661  8.887653     2.0   \n",
       "2  5631500400  12.100712         2       1.00     6.646391  9.210340     1.0   \n",
       "3  2487200875  13.311329         4       3.00     7.580700  8.517193     1.0   \n",
       "4  1954400510  13.142166         3       2.00     7.426549  8.997147     1.0   \n",
       "\n",
       "   waterfront  view  condition  grade  sqft_above  sqft_basement  yr_built  \\\n",
       "0         0.0   0.0          3      7    7.073270            0.0      1955   \n",
       "1         0.0   0.0          3      7    7.682482          400.0      1951   \n",
       "2         0.0   0.0          3      6    6.646391            0.0      1933   \n",
       "3         0.0   0.0          5      7    6.956545          910.0      1965   \n",
       "4         0.0   0.0          3      8    7.426549            0.0      1987   \n",
       "\n",
       "   yr_renovated  zipcode      lat     long  sqft_living15  sqft_lot15  year  \\\n",
       "0        1951.0    98178  47.5112 -122.257       7.200425    8.639411  2014   \n",
       "1        1991.0    98125  47.7210 -122.319       7.432484    8.941022  2014   \n",
       "2        1933.0    98028  47.7379 -122.233       7.908387    8.994917  2015   \n",
       "3        1987.0    98136  47.5208 -122.393       7.215240    8.517193  2014   \n",
       "4        2001.0    98074  47.6168 -122.045       7.495542    8.923058  2015   \n",
       "\n",
       "   month  day  yr_age_of_house  yr_age_of_renovation  price_in_millions  \n",
       "0     10   13               59                   0.0             0.2219  \n",
       "1     12    9               63                  40.0             0.5380  \n",
       "2      2   25               82                   0.0             0.1800  \n",
       "3     12    9               49                  22.0             0.6040  \n",
       "4      2   18               28                  14.0             0.5100  "
      ]
     },
     "execution_count": 36,
     "metadata": {},
     "output_type": "execute_result"
    }
   ],
   "source": [
    "kcfe.head() "
   ]
  },
  {
   "cell_type": "code",
   "execution_count": 37,
   "metadata": {
    "ExecuteTime": {
     "end_time": "2020-10-28T03:30:38.029192Z",
     "start_time": "2020-10-28T03:30:37.961213Z"
    },
    "scrolled": true
   },
   "outputs": [
    {
     "data": {
      "text/html": [
       "<div>\n",
       "<style scoped>\n",
       "    .dataframe tbody tr th:only-of-type {\n",
       "        vertical-align: middle;\n",
       "    }\n",
       "\n",
       "    .dataframe tbody tr th {\n",
       "        vertical-align: top;\n",
       "    }\n",
       "\n",
       "    .dataframe thead th {\n",
       "        text-align: right;\n",
       "    }\n",
       "</style>\n",
       "<table border=\"1\" class=\"dataframe\">\n",
       "  <thead>\n",
       "    <tr style=\"text-align: right;\">\n",
       "      <th></th>\n",
       "      <th>id</th>\n",
       "      <th>price</th>\n",
       "      <th>bedrooms</th>\n",
       "      <th>bathrooms</th>\n",
       "      <th>sqft_living</th>\n",
       "      <th>sqft_lot</th>\n",
       "      <th>floors</th>\n",
       "      <th>waterfront</th>\n",
       "      <th>view</th>\n",
       "      <th>condition</th>\n",
       "      <th>grade</th>\n",
       "      <th>sqft_above</th>\n",
       "      <th>sqft_basement</th>\n",
       "      <th>yr_built</th>\n",
       "      <th>yr_renovated</th>\n",
       "      <th>zipcode</th>\n",
       "      <th>lat</th>\n",
       "      <th>long</th>\n",
       "      <th>sqft_living15</th>\n",
       "      <th>sqft_lot15</th>\n",
       "      <th>year</th>\n",
       "      <th>month</th>\n",
       "      <th>day</th>\n",
       "      <th>yr_age_of_house</th>\n",
       "      <th>yr_age_of_renovation</th>\n",
       "      <th>price_in_millions</th>\n",
       "    </tr>\n",
       "  </thead>\n",
       "  <tbody>\n",
       "    <tr>\n",
       "      <td>0</td>\n",
       "      <td>7129300520</td>\n",
       "      <td>12.309982</td>\n",
       "      <td>3</td>\n",
       "      <td>1.00</td>\n",
       "      <td>7.073270</td>\n",
       "      <td>8.639411</td>\n",
       "      <td>1.0</td>\n",
       "      <td>0.0</td>\n",
       "      <td>0.0</td>\n",
       "      <td>3</td>\n",
       "      <td>7</td>\n",
       "      <td>7.073270</td>\n",
       "      <td>0.0</td>\n",
       "      <td>1955</td>\n",
       "      <td>1951.0</td>\n",
       "      <td>98178</td>\n",
       "      <td>47.5112</td>\n",
       "      <td>-122.257</td>\n",
       "      <td>7.200425</td>\n",
       "      <td>8.639411</td>\n",
       "      <td>2014</td>\n",
       "      <td>10</td>\n",
       "      <td>13</td>\n",
       "      <td>59</td>\n",
       "      <td>0.0</td>\n",
       "      <td>0.2219</td>\n",
       "    </tr>\n",
       "    <tr>\n",
       "      <td>1</td>\n",
       "      <td>6414100192</td>\n",
       "      <td>13.195614</td>\n",
       "      <td>3</td>\n",
       "      <td>2.25</td>\n",
       "      <td>7.851661</td>\n",
       "      <td>8.887653</td>\n",
       "      <td>2.0</td>\n",
       "      <td>0.0</td>\n",
       "      <td>0.0</td>\n",
       "      <td>3</td>\n",
       "      <td>7</td>\n",
       "      <td>7.682482</td>\n",
       "      <td>400.0</td>\n",
       "      <td>1951</td>\n",
       "      <td>1991.0</td>\n",
       "      <td>98125</td>\n",
       "      <td>47.7210</td>\n",
       "      <td>-122.319</td>\n",
       "      <td>7.432484</td>\n",
       "      <td>8.941022</td>\n",
       "      <td>2014</td>\n",
       "      <td>12</td>\n",
       "      <td>9</td>\n",
       "      <td>63</td>\n",
       "      <td>40.0</td>\n",
       "      <td>0.5380</td>\n",
       "    </tr>\n",
       "    <tr>\n",
       "      <td>2</td>\n",
       "      <td>5631500400</td>\n",
       "      <td>12.100712</td>\n",
       "      <td>2</td>\n",
       "      <td>1.00</td>\n",
       "      <td>6.646391</td>\n",
       "      <td>9.210340</td>\n",
       "      <td>1.0</td>\n",
       "      <td>0.0</td>\n",
       "      <td>0.0</td>\n",
       "      <td>3</td>\n",
       "      <td>6</td>\n",
       "      <td>6.646391</td>\n",
       "      <td>0.0</td>\n",
       "      <td>1933</td>\n",
       "      <td>1933.0</td>\n",
       "      <td>98028</td>\n",
       "      <td>47.7379</td>\n",
       "      <td>-122.233</td>\n",
       "      <td>7.908387</td>\n",
       "      <td>8.994917</td>\n",
       "      <td>2015</td>\n",
       "      <td>2</td>\n",
       "      <td>25</td>\n",
       "      <td>82</td>\n",
       "      <td>0.0</td>\n",
       "      <td>0.1800</td>\n",
       "    </tr>\n",
       "    <tr>\n",
       "      <td>3</td>\n",
       "      <td>2487200875</td>\n",
       "      <td>13.311329</td>\n",
       "      <td>4</td>\n",
       "      <td>3.00</td>\n",
       "      <td>7.580700</td>\n",
       "      <td>8.517193</td>\n",
       "      <td>1.0</td>\n",
       "      <td>0.0</td>\n",
       "      <td>0.0</td>\n",
       "      <td>5</td>\n",
       "      <td>7</td>\n",
       "      <td>6.956545</td>\n",
       "      <td>910.0</td>\n",
       "      <td>1965</td>\n",
       "      <td>1987.0</td>\n",
       "      <td>98136</td>\n",
       "      <td>47.5208</td>\n",
       "      <td>-122.393</td>\n",
       "      <td>7.215240</td>\n",
       "      <td>8.517193</td>\n",
       "      <td>2014</td>\n",
       "      <td>12</td>\n",
       "      <td>9</td>\n",
       "      <td>49</td>\n",
       "      <td>22.0</td>\n",
       "      <td>0.6040</td>\n",
       "    </tr>\n",
       "    <tr>\n",
       "      <td>4</td>\n",
       "      <td>1954400510</td>\n",
       "      <td>13.142166</td>\n",
       "      <td>3</td>\n",
       "      <td>2.00</td>\n",
       "      <td>7.426549</td>\n",
       "      <td>8.997147</td>\n",
       "      <td>1.0</td>\n",
       "      <td>0.0</td>\n",
       "      <td>0.0</td>\n",
       "      <td>3</td>\n",
       "      <td>8</td>\n",
       "      <td>7.426549</td>\n",
       "      <td>0.0</td>\n",
       "      <td>1987</td>\n",
       "      <td>2001.0</td>\n",
       "      <td>98074</td>\n",
       "      <td>47.6168</td>\n",
       "      <td>-122.045</td>\n",
       "      <td>7.495542</td>\n",
       "      <td>8.923058</td>\n",
       "      <td>2015</td>\n",
       "      <td>2</td>\n",
       "      <td>18</td>\n",
       "      <td>28</td>\n",
       "      <td>14.0</td>\n",
       "      <td>0.5100</td>\n",
       "    </tr>\n",
       "    <tr>\n",
       "      <td>...</td>\n",
       "      <td>...</td>\n",
       "      <td>...</td>\n",
       "      <td>...</td>\n",
       "      <td>...</td>\n",
       "      <td>...</td>\n",
       "      <td>...</td>\n",
       "      <td>...</td>\n",
       "      <td>...</td>\n",
       "      <td>...</td>\n",
       "      <td>...</td>\n",
       "      <td>...</td>\n",
       "      <td>...</td>\n",
       "      <td>...</td>\n",
       "      <td>...</td>\n",
       "      <td>...</td>\n",
       "      <td>...</td>\n",
       "      <td>...</td>\n",
       "      <td>...</td>\n",
       "      <td>...</td>\n",
       "      <td>...</td>\n",
       "      <td>...</td>\n",
       "      <td>...</td>\n",
       "      <td>...</td>\n",
       "      <td>...</td>\n",
       "      <td>...</td>\n",
       "      <td>...</td>\n",
       "    </tr>\n",
       "    <tr>\n",
       "      <td>95</td>\n",
       "      <td>1483300570</td>\n",
       "      <td>13.715690</td>\n",
       "      <td>4</td>\n",
       "      <td>2.50</td>\n",
       "      <td>8.101678</td>\n",
       "      <td>9.235033</td>\n",
       "      <td>1.0</td>\n",
       "      <td>0.0</td>\n",
       "      <td>0.0</td>\n",
       "      <td>3</td>\n",
       "      <td>7</td>\n",
       "      <td>7.779049</td>\n",
       "      <td>910.0</td>\n",
       "      <td>1946</td>\n",
       "      <td>1991.0</td>\n",
       "      <td>98040</td>\n",
       "      <td>47.5873</td>\n",
       "      <td>-122.249</td>\n",
       "      <td>7.575585</td>\n",
       "      <td>8.706987</td>\n",
       "      <td>2014</td>\n",
       "      <td>9</td>\n",
       "      <td>8</td>\n",
       "      <td>68</td>\n",
       "      <td>45.0</td>\n",
       "      <td>0.9050</td>\n",
       "    </tr>\n",
       "    <tr>\n",
       "      <td>96</td>\n",
       "      <td>3422049190</td>\n",
       "      <td>12.419166</td>\n",
       "      <td>3</td>\n",
       "      <td>1.75</td>\n",
       "      <td>7.580700</td>\n",
       "      <td>9.660205</td>\n",
       "      <td>1.0</td>\n",
       "      <td>0.0</td>\n",
       "      <td>0.0</td>\n",
       "      <td>3</td>\n",
       "      <td>7</td>\n",
       "      <td>7.580700</td>\n",
       "      <td>0.0</td>\n",
       "      <td>1967</td>\n",
       "      <td>1975.0</td>\n",
       "      <td>98032</td>\n",
       "      <td>47.3576</td>\n",
       "      <td>-122.277</td>\n",
       "      <td>7.467371</td>\n",
       "      <td>9.656051</td>\n",
       "      <td>2015</td>\n",
       "      <td>3</td>\n",
       "      <td>30</td>\n",
       "      <td>48</td>\n",
       "      <td>8.0</td>\n",
       "      <td>0.2475</td>\n",
       "    </tr>\n",
       "    <tr>\n",
       "      <td>97</td>\n",
       "      <td>1099611230</td>\n",
       "      <td>12.201060</td>\n",
       "      <td>4</td>\n",
       "      <td>1.50</td>\n",
       "      <td>7.056175</td>\n",
       "      <td>8.764053</td>\n",
       "      <td>1.0</td>\n",
       "      <td>0.0</td>\n",
       "      <td>0.0</td>\n",
       "      <td>4</td>\n",
       "      <td>7</td>\n",
       "      <td>7.056175</td>\n",
       "      <td>0.0</td>\n",
       "      <td>1975</td>\n",
       "      <td>1980.0</td>\n",
       "      <td>98023</td>\n",
       "      <td>47.3036</td>\n",
       "      <td>-122.378</td>\n",
       "      <td>7.056175</td>\n",
       "      <td>8.764053</td>\n",
       "      <td>2014</td>\n",
       "      <td>9</td>\n",
       "      <td>12</td>\n",
       "      <td>39</td>\n",
       "      <td>5.0</td>\n",
       "      <td>0.1990</td>\n",
       "    </tr>\n",
       "    <tr>\n",
       "      <td>98</td>\n",
       "      <td>722079104</td>\n",
       "      <td>12.657148</td>\n",
       "      <td>3</td>\n",
       "      <td>1.75</td>\n",
       "      <td>7.501082</td>\n",
       "      <td>10.640652</td>\n",
       "      <td>1.0</td>\n",
       "      <td>0.0</td>\n",
       "      <td>0.0</td>\n",
       "      <td>5</td>\n",
       "      <td>7</td>\n",
       "      <td>7.098376</td>\n",
       "      <td>600.0</td>\n",
       "      <td>1980</td>\n",
       "      <td>1992.0</td>\n",
       "      <td>98038</td>\n",
       "      <td>47.4109</td>\n",
       "      <td>-121.958</td>\n",
       "      <td>7.408531</td>\n",
       "      <td>11.813297</td>\n",
       "      <td>2014</td>\n",
       "      <td>7</td>\n",
       "      <td>11</td>\n",
       "      <td>34</td>\n",
       "      <td>12.0</td>\n",
       "      <td>0.3140</td>\n",
       "    </tr>\n",
       "    <tr>\n",
       "      <td>99</td>\n",
       "      <td>7338200240</td>\n",
       "      <td>12.988832</td>\n",
       "      <td>3</td>\n",
       "      <td>2.50</td>\n",
       "      <td>7.749322</td>\n",
       "      <td>10.514529</td>\n",
       "      <td>2.0</td>\n",
       "      <td>0.0</td>\n",
       "      <td>2.0</td>\n",
       "      <td>3</td>\n",
       "      <td>9</td>\n",
       "      <td>7.749322</td>\n",
       "      <td>0.0</td>\n",
       "      <td>1992</td>\n",
       "      <td>1910.0</td>\n",
       "      <td>98045</td>\n",
       "      <td>47.4838</td>\n",
       "      <td>-121.714</td>\n",
       "      <td>7.843849</td>\n",
       "      <td>10.464959</td>\n",
       "      <td>2014</td>\n",
       "      <td>5</td>\n",
       "      <td>16</td>\n",
       "      <td>22</td>\n",
       "      <td>0.0</td>\n",
       "      <td>0.4375</td>\n",
       "    </tr>\n",
       "  </tbody>\n",
       "</table>\n",
       "<p>100 rows × 26 columns</p>\n",
       "</div>"
      ],
      "text/plain": [
       "            id      price  bedrooms  bathrooms  sqft_living   sqft_lot  \\\n",
       "0   7129300520  12.309982         3       1.00     7.073270   8.639411   \n",
       "1   6414100192  13.195614         3       2.25     7.851661   8.887653   \n",
       "2   5631500400  12.100712         2       1.00     6.646391   9.210340   \n",
       "3   2487200875  13.311329         4       3.00     7.580700   8.517193   \n",
       "4   1954400510  13.142166         3       2.00     7.426549   8.997147   \n",
       "..         ...        ...       ...        ...          ...        ...   \n",
       "95  1483300570  13.715690         4       2.50     8.101678   9.235033   \n",
       "96  3422049190  12.419166         3       1.75     7.580700   9.660205   \n",
       "97  1099611230  12.201060         4       1.50     7.056175   8.764053   \n",
       "98   722079104  12.657148         3       1.75     7.501082  10.640652   \n",
       "99  7338200240  12.988832         3       2.50     7.749322  10.514529   \n",
       "\n",
       "    floors  waterfront  view  condition  grade  sqft_above  sqft_basement  \\\n",
       "0      1.0         0.0   0.0          3      7    7.073270            0.0   \n",
       "1      2.0         0.0   0.0          3      7    7.682482          400.0   \n",
       "2      1.0         0.0   0.0          3      6    6.646391            0.0   \n",
       "3      1.0         0.0   0.0          5      7    6.956545          910.0   \n",
       "4      1.0         0.0   0.0          3      8    7.426549            0.0   \n",
       "..     ...         ...   ...        ...    ...         ...            ...   \n",
       "95     1.0         0.0   0.0          3      7    7.779049          910.0   \n",
       "96     1.0         0.0   0.0          3      7    7.580700            0.0   \n",
       "97     1.0         0.0   0.0          4      7    7.056175            0.0   \n",
       "98     1.0         0.0   0.0          5      7    7.098376          600.0   \n",
       "99     2.0         0.0   2.0          3      9    7.749322            0.0   \n",
       "\n",
       "    yr_built  yr_renovated  zipcode      lat     long  sqft_living15  \\\n",
       "0       1955        1951.0    98178  47.5112 -122.257       7.200425   \n",
       "1       1951        1991.0    98125  47.7210 -122.319       7.432484   \n",
       "2       1933        1933.0    98028  47.7379 -122.233       7.908387   \n",
       "3       1965        1987.0    98136  47.5208 -122.393       7.215240   \n",
       "4       1987        2001.0    98074  47.6168 -122.045       7.495542   \n",
       "..       ...           ...      ...      ...      ...            ...   \n",
       "95      1946        1991.0    98040  47.5873 -122.249       7.575585   \n",
       "96      1967        1975.0    98032  47.3576 -122.277       7.467371   \n",
       "97      1975        1980.0    98023  47.3036 -122.378       7.056175   \n",
       "98      1980        1992.0    98038  47.4109 -121.958       7.408531   \n",
       "99      1992        1910.0    98045  47.4838 -121.714       7.843849   \n",
       "\n",
       "    sqft_lot15  year  month  day  yr_age_of_house  yr_age_of_renovation  \\\n",
       "0     8.639411  2014     10   13               59                   0.0   \n",
       "1     8.941022  2014     12    9               63                  40.0   \n",
       "2     8.994917  2015      2   25               82                   0.0   \n",
       "3     8.517193  2014     12    9               49                  22.0   \n",
       "4     8.923058  2015      2   18               28                  14.0   \n",
       "..         ...   ...    ...  ...              ...                   ...   \n",
       "95    8.706987  2014      9    8               68                  45.0   \n",
       "96    9.656051  2015      3   30               48                   8.0   \n",
       "97    8.764053  2014      9   12               39                   5.0   \n",
       "98   11.813297  2014      7   11               34                  12.0   \n",
       "99   10.464959  2014      5   16               22                   0.0   \n",
       "\n",
       "    price_in_millions  \n",
       "0              0.2219  \n",
       "1              0.5380  \n",
       "2              0.1800  \n",
       "3              0.6040  \n",
       "4              0.5100  \n",
       "..                ...  \n",
       "95             0.9050  \n",
       "96             0.2475  \n",
       "97             0.1990  \n",
       "98             0.3140  \n",
       "99             0.4375  \n",
       "\n",
       "[100 rows x 26 columns]"
      ]
     },
     "execution_count": 37,
     "metadata": {},
     "output_type": "execute_result"
    }
   ],
   "source": [
    "kcfe.head(100) "
   ]
  },
  {
   "cell_type": "markdown",
   "metadata": {},
   "source": [
    "#### Feature Scaling"
   ]
  },
  {
   "cell_type": "code",
   "execution_count": 38,
   "metadata": {
    "ExecuteTime": {
     "end_time": "2020-10-28T03:30:38.094346Z",
     "start_time": "2020-10-28T03:30:38.031193Z"
    }
   },
   "outputs": [
    {
     "data": {
      "text/plain": [
       "MinMaxScaler(copy=True, feature_range=(0, 1))"
      ]
     },
     "execution_count": 38,
     "metadata": {},
     "output_type": "execute_result"
    }
   ],
   "source": [
    "feature_scale = [feature for feature in kcfe.columns if feature not in ['id','price']]\n",
    "\n",
    "from sklearn.preprocessing import MinMaxScaler\n",
    "scaler=MinMaxScaler()\n",
    "scaler.fit(kcfe[feature_scale]) "
   ]
  },
  {
   "cell_type": "markdown",
   "metadata": {},
   "source": [
    "##### Transforming the train and test set, and add on the id and price variables"
   ]
  },
  {
   "cell_type": "code",
   "execution_count": 39,
   "metadata": {
    "ExecuteTime": {
     "end_time": "2020-10-28T03:30:38.191588Z",
     "start_time": "2020-10-28T03:30:38.097343Z"
    }
   },
   "outputs": [
    {
     "data": {
      "text/plain": [
       "array([[0.0625    , 0.06666667, 0.32216632, ..., 0.51724138, 0.        ,\n",
       "        0.01887956],\n",
       "       [0.0625    , 0.23333333, 0.53839214, ..., 0.55172414, 0.35087719,\n",
       "        0.06035161],\n",
       "       [0.03125   , 0.06666667, 0.20358549, ..., 0.71551724, 0.        ,\n",
       "        0.01338231],\n",
       "       ...,\n",
       "       [0.03125   , 0.03333333, 0.2816897 , ..., 0.05172414, 0.        ,\n",
       "        0.04252178],\n",
       "       [0.0625    , 0.26666667, 0.40674899, ..., 0.10344828, 0.03508772,\n",
       "        0.04224613],\n",
       "       [0.03125   , 0.03333333, 0.2816897 , ..., 0.06034483, 0.        ,\n",
       "        0.03240619]])"
      ]
     },
     "execution_count": 39,
     "metadata": {},
     "output_type": "execute_result"
    }
   ],
   "source": [
    "scaler.transform(kcfe[feature_scale]) # checking values in array "
   ]
  },
  {
   "cell_type": "code",
   "execution_count": 40,
   "metadata": {
    "ExecuteTime": {
     "end_time": "2020-10-28T03:30:38.257934Z",
     "start_time": "2020-10-28T03:30:38.193606Z"
    }
   },
   "outputs": [],
   "source": [
    "# The above array to be converted into DataFrame"
   ]
  },
  {
   "cell_type": "code",
   "execution_count": 41,
   "metadata": {
    "ExecuteTime": {
     "end_time": "2020-10-28T03:30:38.408634Z",
     "start_time": "2020-10-28T03:30:38.267924Z"
    }
   },
   "outputs": [],
   "source": [
    "kcfe1 = pd.concat([kcfe[['id','price']].reset_index(drop=True),\n",
    "                    pd.DataFrame(scaler.transform(kcfe[feature_scale]),columns=feature_scale)],\n",
    "                   axis=1)"
   ]
  },
  {
   "cell_type": "markdown",
   "metadata": {},
   "source": [
    "#### Checking dataframe after applying feature scaling"
   ]
  },
  {
   "cell_type": "code",
   "execution_count": 42,
   "metadata": {
    "ExecuteTime": {
     "end_time": "2020-10-28T03:30:38.543736Z",
     "start_time": "2020-10-28T03:30:38.412595Z"
    }
   },
   "outputs": [
    {
     "data": {
      "text/html": [
       "<div>\n",
       "<style scoped>\n",
       "    .dataframe tbody tr th:only-of-type {\n",
       "        vertical-align: middle;\n",
       "    }\n",
       "\n",
       "    .dataframe tbody tr th {\n",
       "        vertical-align: top;\n",
       "    }\n",
       "\n",
       "    .dataframe thead th {\n",
       "        text-align: right;\n",
       "    }\n",
       "</style>\n",
       "<table border=\"1\" class=\"dataframe\">\n",
       "  <thead>\n",
       "    <tr style=\"text-align: right;\">\n",
       "      <th></th>\n",
       "      <th>id</th>\n",
       "      <th>price</th>\n",
       "      <th>bedrooms</th>\n",
       "      <th>bathrooms</th>\n",
       "      <th>sqft_living</th>\n",
       "      <th>sqft_lot</th>\n",
       "      <th>floors</th>\n",
       "      <th>waterfront</th>\n",
       "      <th>view</th>\n",
       "      <th>condition</th>\n",
       "      <th>grade</th>\n",
       "      <th>sqft_above</th>\n",
       "      <th>sqft_basement</th>\n",
       "      <th>yr_built</th>\n",
       "      <th>yr_renovated</th>\n",
       "      <th>zipcode</th>\n",
       "      <th>lat</th>\n",
       "      <th>long</th>\n",
       "      <th>sqft_living15</th>\n",
       "      <th>sqft_lot15</th>\n",
       "      <th>year</th>\n",
       "      <th>month</th>\n",
       "      <th>day</th>\n",
       "      <th>yr_age_of_house</th>\n",
       "      <th>yr_age_of_renovation</th>\n",
       "      <th>price_in_millions</th>\n",
       "    </tr>\n",
       "  </thead>\n",
       "  <tbody>\n",
       "    <tr>\n",
       "      <td>0</td>\n",
       "      <td>7129300520</td>\n",
       "      <td>12.309982</td>\n",
       "      <td>0.06250</td>\n",
       "      <td>0.066667</td>\n",
       "      <td>0.322166</td>\n",
       "      <td>0.295858</td>\n",
       "      <td>0.0</td>\n",
       "      <td>0.0</td>\n",
       "      <td>0.0</td>\n",
       "      <td>0.5</td>\n",
       "      <td>0.4</td>\n",
       "      <td>0.358392</td>\n",
       "      <td>0.000000</td>\n",
       "      <td>0.478261</td>\n",
       "      <td>0.443478</td>\n",
       "      <td>0.893939</td>\n",
       "      <td>0.571498</td>\n",
       "      <td>0.217608</td>\n",
       "      <td>0.441342</td>\n",
       "      <td>0.300162</td>\n",
       "      <td>0.0</td>\n",
       "      <td>0.818182</td>\n",
       "      <td>0.400000</td>\n",
       "      <td>0.517241</td>\n",
       "      <td>0.000000</td>\n",
       "      <td>0.018880</td>\n",
       "    </tr>\n",
       "    <tr>\n",
       "      <td>1</td>\n",
       "      <td>6414100192</td>\n",
       "      <td>13.195614</td>\n",
       "      <td>0.06250</td>\n",
       "      <td>0.233333</td>\n",
       "      <td>0.538392</td>\n",
       "      <td>0.326644</td>\n",
       "      <td>0.4</td>\n",
       "      <td>0.0</td>\n",
       "      <td>0.0</td>\n",
       "      <td>0.5</td>\n",
       "      <td>0.4</td>\n",
       "      <td>0.546652</td>\n",
       "      <td>0.082988</td>\n",
       "      <td>0.443478</td>\n",
       "      <td>0.791304</td>\n",
       "      <td>0.626263</td>\n",
       "      <td>0.908959</td>\n",
       "      <td>0.166113</td>\n",
       "      <td>0.525882</td>\n",
       "      <td>0.342058</td>\n",
       "      <td>0.0</td>\n",
       "      <td>1.000000</td>\n",
       "      <td>0.266667</td>\n",
       "      <td>0.551724</td>\n",
       "      <td>0.350877</td>\n",
       "      <td>0.060352</td>\n",
       "    </tr>\n",
       "    <tr>\n",
       "      <td>2</td>\n",
       "      <td>5631500400</td>\n",
       "      <td>12.100712</td>\n",
       "      <td>0.03125</td>\n",
       "      <td>0.066667</td>\n",
       "      <td>0.203585</td>\n",
       "      <td>0.366664</td>\n",
       "      <td>0.0</td>\n",
       "      <td>0.0</td>\n",
       "      <td>0.0</td>\n",
       "      <td>0.5</td>\n",
       "      <td>0.3</td>\n",
       "      <td>0.226478</td>\n",
       "      <td>0.000000</td>\n",
       "      <td>0.286957</td>\n",
       "      <td>0.286957</td>\n",
       "      <td>0.136364</td>\n",
       "      <td>0.936143</td>\n",
       "      <td>0.237542</td>\n",
       "      <td>0.699256</td>\n",
       "      <td>0.349544</td>\n",
       "      <td>1.0</td>\n",
       "      <td>0.090909</td>\n",
       "      <td>0.800000</td>\n",
       "      <td>0.715517</td>\n",
       "      <td>0.000000</td>\n",
       "      <td>0.013382</td>\n",
       "    </tr>\n",
       "    <tr>\n",
       "      <td>3</td>\n",
       "      <td>2487200875</td>\n",
       "      <td>13.311329</td>\n",
       "      <td>0.09375</td>\n",
       "      <td>0.333333</td>\n",
       "      <td>0.463123</td>\n",
       "      <td>0.280700</td>\n",
       "      <td>0.0</td>\n",
       "      <td>0.0</td>\n",
       "      <td>0.0</td>\n",
       "      <td>1.0</td>\n",
       "      <td>0.4</td>\n",
       "      <td>0.322322</td>\n",
       "      <td>0.188797</td>\n",
       "      <td>0.565217</td>\n",
       "      <td>0.756522</td>\n",
       "      <td>0.681818</td>\n",
       "      <td>0.586939</td>\n",
       "      <td>0.104651</td>\n",
       "      <td>0.446739</td>\n",
       "      <td>0.283185</td>\n",
       "      <td>0.0</td>\n",
       "      <td>1.000000</td>\n",
       "      <td>0.266667</td>\n",
       "      <td>0.431034</td>\n",
       "      <td>0.192982</td>\n",
       "      <td>0.069011</td>\n",
       "    </tr>\n",
       "    <tr>\n",
       "      <td>4</td>\n",
       "      <td>1954400510</td>\n",
       "      <td>13.142166</td>\n",
       "      <td>0.06250</td>\n",
       "      <td>0.200000</td>\n",
       "      <td>0.420302</td>\n",
       "      <td>0.340224</td>\n",
       "      <td>0.0</td>\n",
       "      <td>0.0</td>\n",
       "      <td>0.0</td>\n",
       "      <td>0.5</td>\n",
       "      <td>0.5</td>\n",
       "      <td>0.467563</td>\n",
       "      <td>0.000000</td>\n",
       "      <td>0.756522</td>\n",
       "      <td>0.878261</td>\n",
       "      <td>0.368687</td>\n",
       "      <td>0.741354</td>\n",
       "      <td>0.393688</td>\n",
       "      <td>0.548854</td>\n",
       "      <td>0.339562</td>\n",
       "      <td>1.0</td>\n",
       "      <td>0.090909</td>\n",
       "      <td>0.566667</td>\n",
       "      <td>0.250000</td>\n",
       "      <td>0.122807</td>\n",
       "      <td>0.056678</td>\n",
       "    </tr>\n",
       "  </tbody>\n",
       "</table>\n",
       "</div>"
      ],
      "text/plain": [
       "           id      price  bedrooms  bathrooms  sqft_living  sqft_lot  floors  \\\n",
       "0  7129300520  12.309982   0.06250   0.066667     0.322166  0.295858     0.0   \n",
       "1  6414100192  13.195614   0.06250   0.233333     0.538392  0.326644     0.4   \n",
       "2  5631500400  12.100712   0.03125   0.066667     0.203585  0.366664     0.0   \n",
       "3  2487200875  13.311329   0.09375   0.333333     0.463123  0.280700     0.0   \n",
       "4  1954400510  13.142166   0.06250   0.200000     0.420302  0.340224     0.0   \n",
       "\n",
       "   waterfront  view  condition  grade  sqft_above  sqft_basement  yr_built  \\\n",
       "0         0.0   0.0        0.5    0.4    0.358392       0.000000  0.478261   \n",
       "1         0.0   0.0        0.5    0.4    0.546652       0.082988  0.443478   \n",
       "2         0.0   0.0        0.5    0.3    0.226478       0.000000  0.286957   \n",
       "3         0.0   0.0        1.0    0.4    0.322322       0.188797  0.565217   \n",
       "4         0.0   0.0        0.5    0.5    0.467563       0.000000  0.756522   \n",
       "\n",
       "   yr_renovated   zipcode       lat      long  sqft_living15  sqft_lot15  \\\n",
       "0      0.443478  0.893939  0.571498  0.217608       0.441342    0.300162   \n",
       "1      0.791304  0.626263  0.908959  0.166113       0.525882    0.342058   \n",
       "2      0.286957  0.136364  0.936143  0.237542       0.699256    0.349544   \n",
       "3      0.756522  0.681818  0.586939  0.104651       0.446739    0.283185   \n",
       "4      0.878261  0.368687  0.741354  0.393688       0.548854    0.339562   \n",
       "\n",
       "   year     month       day  yr_age_of_house  yr_age_of_renovation  \\\n",
       "0   0.0  0.818182  0.400000         0.517241              0.000000   \n",
       "1   0.0  1.000000  0.266667         0.551724              0.350877   \n",
       "2   1.0  0.090909  0.800000         0.715517              0.000000   \n",
       "3   0.0  1.000000  0.266667         0.431034              0.192982   \n",
       "4   1.0  0.090909  0.566667         0.250000              0.122807   \n",
       "\n",
       "   price_in_millions  \n",
       "0           0.018880  \n",
       "1           0.060352  \n",
       "2           0.013382  \n",
       "3           0.069011  \n",
       "4           0.056678  "
      ]
     },
     "execution_count": 42,
     "metadata": {},
     "output_type": "execute_result"
    }
   ],
   "source": [
    "kcfe1.head() "
   ]
  },
  {
   "cell_type": "code",
   "execution_count": 43,
   "metadata": {
    "ExecuteTime": {
     "end_time": "2020-10-28T03:30:38.670803Z",
     "start_time": "2020-10-28T03:30:38.549730Z"
    }
   },
   "outputs": [
    {
     "name": "stdout",
     "output_type": "stream",
     "text": [
      "<class 'pandas.core.frame.DataFrame'>\n",
      "RangeIndex: 21597 entries, 0 to 21596\n",
      "Data columns (total 26 columns):\n",
      "id                      21597 non-null int64\n",
      "price                   21597 non-null float64\n",
      "bedrooms                21597 non-null float64\n",
      "bathrooms               21597 non-null float64\n",
      "sqft_living             21597 non-null float64\n",
      "sqft_lot                21597 non-null float64\n",
      "floors                  21597 non-null float64\n",
      "waterfront              21597 non-null float64\n",
      "view                    21597 non-null float64\n",
      "condition               21597 non-null float64\n",
      "grade                   21597 non-null float64\n",
      "sqft_above              21597 non-null float64\n",
      "sqft_basement           21597 non-null float64\n",
      "yr_built                21597 non-null float64\n",
      "yr_renovated            21597 non-null float64\n",
      "zipcode                 21597 non-null float64\n",
      "lat                     21597 non-null float64\n",
      "long                    21597 non-null float64\n",
      "sqft_living15           21597 non-null float64\n",
      "sqft_lot15              21597 non-null float64\n",
      "year                    21597 non-null float64\n",
      "month                   21597 non-null float64\n",
      "day                     21597 non-null float64\n",
      "yr_age_of_house         21597 non-null float64\n",
      "yr_age_of_renovation    21597 non-null float64\n",
      "price_in_millions       21597 non-null float64\n",
      "dtypes: float64(25), int64(1)\n",
      "memory usage: 4.3 MB\n"
     ]
    }
   ],
   "source": [
    "kcfe1.info() "
   ]
  },
  {
   "cell_type": "code",
   "execution_count": 44,
   "metadata": {
    "ExecuteTime": {
     "end_time": "2020-10-28T03:30:39.750235Z",
     "start_time": "2020-10-28T03:30:38.674786Z"
    }
   },
   "outputs": [],
   "source": [
    "kcfe1.to_csv('kc_4_LR',index=False)  "
   ]
  },
  {
   "cell_type": "markdown",
   "metadata": {},
   "source": [
    "#### Splitting train & test "
   ]
  },
  {
   "cell_type": "code",
   "execution_count": 45,
   "metadata": {
    "ExecuteTime": {
     "end_time": "2020-10-28T03:30:39.769223Z",
     "start_time": "2020-10-28T03:30:39.752215Z"
    }
   },
   "outputs": [
    {
     "data": {
      "text/plain": [
       "((17277, 26), (4320, 26))"
      ]
     },
     "execution_count": 45,
     "metadata": {},
     "output_type": "execute_result"
    }
   ],
   "source": [
    "from sklearn.model_selection import train_test_split\n",
    "X_train,X_test,y_train,y_test=train_test_split(kcfe,kcfe['price'],test_size=0.2,random_state=0)\n",
    "\n",
    "X_train.shape, X_test.shape"
   ]
  },
  {
   "cell_type": "code",
   "execution_count": 46,
   "metadata": {
    "ExecuteTime": {
     "end_time": "2020-10-28T03:30:39.954460Z",
     "start_time": "2020-10-28T03:30:39.771203Z"
    }
   },
   "outputs": [
    {
     "data": {
      "text/html": [
       "<div>\n",
       "<style scoped>\n",
       "    .dataframe tbody tr th:only-of-type {\n",
       "        vertical-align: middle;\n",
       "    }\n",
       "\n",
       "    .dataframe tbody tr th {\n",
       "        vertical-align: top;\n",
       "    }\n",
       "\n",
       "    .dataframe thead th {\n",
       "        text-align: right;\n",
       "    }\n",
       "</style>\n",
       "<table border=\"1\" class=\"dataframe\">\n",
       "  <thead>\n",
       "    <tr style=\"text-align: right;\">\n",
       "      <th></th>\n",
       "      <th>id</th>\n",
       "      <th>price</th>\n",
       "      <th>bedrooms</th>\n",
       "      <th>bathrooms</th>\n",
       "      <th>sqft_living</th>\n",
       "      <th>sqft_lot</th>\n",
       "      <th>floors</th>\n",
       "      <th>waterfront</th>\n",
       "      <th>view</th>\n",
       "      <th>condition</th>\n",
       "      <th>grade</th>\n",
       "      <th>sqft_above</th>\n",
       "      <th>sqft_basement</th>\n",
       "      <th>yr_built</th>\n",
       "      <th>yr_renovated</th>\n",
       "      <th>zipcode</th>\n",
       "      <th>lat</th>\n",
       "      <th>long</th>\n",
       "      <th>sqft_living15</th>\n",
       "      <th>sqft_lot15</th>\n",
       "      <th>year</th>\n",
       "      <th>month</th>\n",
       "      <th>day</th>\n",
       "      <th>yr_age_of_house</th>\n",
       "      <th>yr_age_of_renovation</th>\n",
       "      <th>price_in_millions</th>\n",
       "    </tr>\n",
       "  </thead>\n",
       "  <tbody>\n",
       "    <tr>\n",
       "      <td>3930</td>\n",
       "      <td>1269200229</td>\n",
       "      <td>14.137594</td>\n",
       "      <td>3</td>\n",
       "      <td>3.25</td>\n",
       "      <td>8.239065</td>\n",
       "      <td>10.546341</td>\n",
       "      <td>1.0</td>\n",
       "      <td>1.0</td>\n",
       "      <td>4.0</td>\n",
       "      <td>3</td>\n",
       "      <td>9</td>\n",
       "      <td>7.567346</td>\n",
       "      <td>1852.0</td>\n",
       "      <td>1978</td>\n",
       "      <td>2006.0</td>\n",
       "      <td>98070</td>\n",
       "      <td>47.3907</td>\n",
       "      <td>-122.448</td>\n",
       "      <td>7.955074</td>\n",
       "      <td>10.415143</td>\n",
       "      <td>2014</td>\n",
       "      <td>7</td>\n",
       "      <td>23</td>\n",
       "      <td>36</td>\n",
       "      <td>28.0</td>\n",
       "      <td>1.38000</td>\n",
       "    </tr>\n",
       "    <tr>\n",
       "      <td>8267</td>\n",
       "      <td>3883800011</td>\n",
       "      <td>11.314475</td>\n",
       "      <td>3</td>\n",
       "      <td>1.00</td>\n",
       "      <td>6.756932</td>\n",
       "      <td>9.252058</td>\n",
       "      <td>1.0</td>\n",
       "      <td>0.0</td>\n",
       "      <td>0.0</td>\n",
       "      <td>3</td>\n",
       "      <td>6</td>\n",
       "      <td>6.756932</td>\n",
       "      <td>0.0</td>\n",
       "      <td>1954</td>\n",
       "      <td>1954.0</td>\n",
       "      <td>98146</td>\n",
       "      <td>47.4987</td>\n",
       "      <td>-122.341</td>\n",
       "      <td>7.038784</td>\n",
       "      <td>9.328123</td>\n",
       "      <td>2014</td>\n",
       "      <td>11</td>\n",
       "      <td>5</td>\n",
       "      <td>60</td>\n",
       "      <td>0.0</td>\n",
       "      <td>0.08200</td>\n",
       "    </tr>\n",
       "    <tr>\n",
       "      <td>15607</td>\n",
       "      <td>2019200480</td>\n",
       "      <td>12.301383</td>\n",
       "      <td>3</td>\n",
       "      <td>2.25</td>\n",
       "      <td>7.293018</td>\n",
       "      <td>8.925055</td>\n",
       "      <td>1.0</td>\n",
       "      <td>0.0</td>\n",
       "      <td>0.0</td>\n",
       "      <td>3</td>\n",
       "      <td>7</td>\n",
       "      <td>7.056175</td>\n",
       "      <td>310.0</td>\n",
       "      <td>1985</td>\n",
       "      <td>1928.0</td>\n",
       "      <td>98003</td>\n",
       "      <td>47.2725</td>\n",
       "      <td>-122.300</td>\n",
       "      <td>7.450080</td>\n",
       "      <td>9.024011</td>\n",
       "      <td>2014</td>\n",
       "      <td>8</td>\n",
       "      <td>13</td>\n",
       "      <td>29</td>\n",
       "      <td>0.0</td>\n",
       "      <td>0.22000</td>\n",
       "    </tr>\n",
       "    <tr>\n",
       "      <td>6680</td>\n",
       "      <td>6413100122</td>\n",
       "      <td>12.821123</td>\n",
       "      <td>3</td>\n",
       "      <td>1.75</td>\n",
       "      <td>7.402452</td>\n",
       "      <td>8.488794</td>\n",
       "      <td>1.0</td>\n",
       "      <td>0.0</td>\n",
       "      <td>0.0</td>\n",
       "      <td>3</td>\n",
       "      <td>8</td>\n",
       "      <td>7.090077</td>\n",
       "      <td>440.0</td>\n",
       "      <td>1965</td>\n",
       "      <td>1995.0</td>\n",
       "      <td>98125</td>\n",
       "      <td>47.7125</td>\n",
       "      <td>-122.320</td>\n",
       "      <td>7.299797</td>\n",
       "      <td>8.881836</td>\n",
       "      <td>2014</td>\n",
       "      <td>7</td>\n",
       "      <td>11</td>\n",
       "      <td>49</td>\n",
       "      <td>30.0</td>\n",
       "      <td>0.36995</td>\n",
       "    </tr>\n",
       "    <tr>\n",
       "      <td>6999</td>\n",
       "      <td>6738700275</td>\n",
       "      <td>13.676248</td>\n",
       "      <td>4</td>\n",
       "      <td>2.75</td>\n",
       "      <td>7.951559</td>\n",
       "      <td>8.294050</td>\n",
       "      <td>1.5</td>\n",
       "      <td>0.0</td>\n",
       "      <td>0.0</td>\n",
       "      <td>5</td>\n",
       "      <td>8</td>\n",
       "      <td>7.580700</td>\n",
       "      <td>880.0</td>\n",
       "      <td>1912</td>\n",
       "      <td>1984.0</td>\n",
       "      <td>98144</td>\n",
       "      <td>47.5846</td>\n",
       "      <td>-122.291</td>\n",
       "      <td>7.919356</td>\n",
       "      <td>8.294050</td>\n",
       "      <td>2014</td>\n",
       "      <td>6</td>\n",
       "      <td>25</td>\n",
       "      <td>102</td>\n",
       "      <td>72.0</td>\n",
       "      <td>0.87000</td>\n",
       "    </tr>\n",
       "    <tr>\n",
       "      <td>...</td>\n",
       "      <td>...</td>\n",
       "      <td>...</td>\n",
       "      <td>...</td>\n",
       "      <td>...</td>\n",
       "      <td>...</td>\n",
       "      <td>...</td>\n",
       "      <td>...</td>\n",
       "      <td>...</td>\n",
       "      <td>...</td>\n",
       "      <td>...</td>\n",
       "      <td>...</td>\n",
       "      <td>...</td>\n",
       "      <td>...</td>\n",
       "      <td>...</td>\n",
       "      <td>...</td>\n",
       "      <td>...</td>\n",
       "      <td>...</td>\n",
       "      <td>...</td>\n",
       "      <td>...</td>\n",
       "      <td>...</td>\n",
       "      <td>...</td>\n",
       "      <td>...</td>\n",
       "      <td>...</td>\n",
       "      <td>...</td>\n",
       "      <td>...</td>\n",
       "      <td>...</td>\n",
       "    </tr>\n",
       "    <tr>\n",
       "      <td>13123</td>\n",
       "      <td>2591010040</td>\n",
       "      <td>13.056224</td>\n",
       "      <td>2</td>\n",
       "      <td>1.75</td>\n",
       "      <td>7.130899</td>\n",
       "      <td>8.857800</td>\n",
       "      <td>1.0</td>\n",
       "      <td>0.0</td>\n",
       "      <td>0.0</td>\n",
       "      <td>4</td>\n",
       "      <td>7</td>\n",
       "      <td>7.130899</td>\n",
       "      <td>0.0</td>\n",
       "      <td>1986</td>\n",
       "      <td>1981.0</td>\n",
       "      <td>98033</td>\n",
       "      <td>47.6936</td>\n",
       "      <td>-122.186</td>\n",
       "      <td>7.426549</td>\n",
       "      <td>9.044286</td>\n",
       "      <td>2014</td>\n",
       "      <td>11</td>\n",
       "      <td>10</td>\n",
       "      <td>28</td>\n",
       "      <td>0.0</td>\n",
       "      <td>0.46800</td>\n",
       "    </tr>\n",
       "    <tr>\n",
       "      <td>19648</td>\n",
       "      <td>9188200505</td>\n",
       "      <td>12.524526</td>\n",
       "      <td>4</td>\n",
       "      <td>2.50</td>\n",
       "      <td>7.512071</td>\n",
       "      <td>8.260493</td>\n",
       "      <td>2.0</td>\n",
       "      <td>0.0</td>\n",
       "      <td>0.0</td>\n",
       "      <td>3</td>\n",
       "      <td>7</td>\n",
       "      <td>7.512071</td>\n",
       "      <td>0.0</td>\n",
       "      <td>2007</td>\n",
       "      <td>2007.0</td>\n",
       "      <td>98118</td>\n",
       "      <td>47.5186</td>\n",
       "      <td>-122.276</td>\n",
       "      <td>7.753624</td>\n",
       "      <td>8.260493</td>\n",
       "      <td>2014</td>\n",
       "      <td>7</td>\n",
       "      <td>10</td>\n",
       "      <td>7</td>\n",
       "      <td>0.0</td>\n",
       "      <td>0.27500</td>\n",
       "    </tr>\n",
       "    <tr>\n",
       "      <td>9845</td>\n",
       "      <td>121039083</td>\n",
       "      <td>13.351887</td>\n",
       "      <td>3</td>\n",
       "      <td>1.75</td>\n",
       "      <td>7.286192</td>\n",
       "      <td>9.422787</td>\n",
       "      <td>2.0</td>\n",
       "      <td>1.0</td>\n",
       "      <td>4.0</td>\n",
       "      <td>4</td>\n",
       "      <td>8</td>\n",
       "      <td>7.021084</td>\n",
       "      <td>340.0</td>\n",
       "      <td>1970</td>\n",
       "      <td>2000.0</td>\n",
       "      <td>98023</td>\n",
       "      <td>47.3311</td>\n",
       "      <td>-122.375</td>\n",
       "      <td>7.585789</td>\n",
       "      <td>9.846547</td>\n",
       "      <td>2015</td>\n",
       "      <td>2</td>\n",
       "      <td>6</td>\n",
       "      <td>45</td>\n",
       "      <td>30.0</td>\n",
       "      <td>0.62900</td>\n",
       "    </tr>\n",
       "    <tr>\n",
       "      <td>10799</td>\n",
       "      <td>1453602065</td>\n",
       "      <td>13.000196</td>\n",
       "      <td>3</td>\n",
       "      <td>1.00</td>\n",
       "      <td>7.021084</td>\n",
       "      <td>9.011889</td>\n",
       "      <td>1.0</td>\n",
       "      <td>0.0</td>\n",
       "      <td>0.0</td>\n",
       "      <td>4</td>\n",
       "      <td>7</td>\n",
       "      <td>7.021084</td>\n",
       "      <td>0.0</td>\n",
       "      <td>1938</td>\n",
       "      <td>1938.0</td>\n",
       "      <td>98125</td>\n",
       "      <td>47.7254</td>\n",
       "      <td>-122.290</td>\n",
       "      <td>7.506592</td>\n",
       "      <td>8.882531</td>\n",
       "      <td>2015</td>\n",
       "      <td>2</td>\n",
       "      <td>5</td>\n",
       "      <td>77</td>\n",
       "      <td>0.0</td>\n",
       "      <td>0.44250</td>\n",
       "    </tr>\n",
       "    <tr>\n",
       "      <td>2732</td>\n",
       "      <td>2260000340</td>\n",
       "      <td>13.458836</td>\n",
       "      <td>4</td>\n",
       "      <td>1.75</td>\n",
       "      <td>7.757906</td>\n",
       "      <td>9.116030</td>\n",
       "      <td>1.0</td>\n",
       "      <td>0.0</td>\n",
       "      <td>0.0</td>\n",
       "      <td>3</td>\n",
       "      <td>8</td>\n",
       "      <td>7.383989</td>\n",
       "      <td>730.0</td>\n",
       "      <td>1975</td>\n",
       "      <td>1995.0</td>\n",
       "      <td>98052</td>\n",
       "      <td>47.6401</td>\n",
       "      <td>-122.108</td>\n",
       "      <td>7.811973</td>\n",
       "      <td>9.305651</td>\n",
       "      <td>2014</td>\n",
       "      <td>11</td>\n",
       "      <td>15</td>\n",
       "      <td>39</td>\n",
       "      <td>20.0</td>\n",
       "      <td>0.70000</td>\n",
       "    </tr>\n",
       "  </tbody>\n",
       "</table>\n",
       "<p>17277 rows × 26 columns</p>\n",
       "</div>"
      ],
      "text/plain": [
       "               id      price  bedrooms  bathrooms  sqft_living   sqft_lot  \\\n",
       "3930   1269200229  14.137594         3       3.25     8.239065  10.546341   \n",
       "8267   3883800011  11.314475         3       1.00     6.756932   9.252058   \n",
       "15607  2019200480  12.301383         3       2.25     7.293018   8.925055   \n",
       "6680   6413100122  12.821123         3       1.75     7.402452   8.488794   \n",
       "6999   6738700275  13.676248         4       2.75     7.951559   8.294050   \n",
       "...           ...        ...       ...        ...          ...        ...   \n",
       "13123  2591010040  13.056224         2       1.75     7.130899   8.857800   \n",
       "19648  9188200505  12.524526         4       2.50     7.512071   8.260493   \n",
       "9845    121039083  13.351887         3       1.75     7.286192   9.422787   \n",
       "10799  1453602065  13.000196         3       1.00     7.021084   9.011889   \n",
       "2732   2260000340  13.458836         4       1.75     7.757906   9.116030   \n",
       "\n",
       "       floors  waterfront  view  condition  grade  sqft_above  sqft_basement  \\\n",
       "3930      1.0         1.0   4.0          3      9    7.567346         1852.0   \n",
       "8267      1.0         0.0   0.0          3      6    6.756932            0.0   \n",
       "15607     1.0         0.0   0.0          3      7    7.056175          310.0   \n",
       "6680      1.0         0.0   0.0          3      8    7.090077          440.0   \n",
       "6999      1.5         0.0   0.0          5      8    7.580700          880.0   \n",
       "...       ...         ...   ...        ...    ...         ...            ...   \n",
       "13123     1.0         0.0   0.0          4      7    7.130899            0.0   \n",
       "19648     2.0         0.0   0.0          3      7    7.512071            0.0   \n",
       "9845      2.0         1.0   4.0          4      8    7.021084          340.0   \n",
       "10799     1.0         0.0   0.0          4      7    7.021084            0.0   \n",
       "2732      1.0         0.0   0.0          3      8    7.383989          730.0   \n",
       "\n",
       "       yr_built  yr_renovated  zipcode      lat     long  sqft_living15  \\\n",
       "3930       1978        2006.0    98070  47.3907 -122.448       7.955074   \n",
       "8267       1954        1954.0    98146  47.4987 -122.341       7.038784   \n",
       "15607      1985        1928.0    98003  47.2725 -122.300       7.450080   \n",
       "6680       1965        1995.0    98125  47.7125 -122.320       7.299797   \n",
       "6999       1912        1984.0    98144  47.5846 -122.291       7.919356   \n",
       "...         ...           ...      ...      ...      ...            ...   \n",
       "13123      1986        1981.0    98033  47.6936 -122.186       7.426549   \n",
       "19648      2007        2007.0    98118  47.5186 -122.276       7.753624   \n",
       "9845       1970        2000.0    98023  47.3311 -122.375       7.585789   \n",
       "10799      1938        1938.0    98125  47.7254 -122.290       7.506592   \n",
       "2732       1975        1995.0    98052  47.6401 -122.108       7.811973   \n",
       "\n",
       "       sqft_lot15  year  month  day  yr_age_of_house  yr_age_of_renovation  \\\n",
       "3930    10.415143  2014      7   23               36                  28.0   \n",
       "8267     9.328123  2014     11    5               60                   0.0   \n",
       "15607    9.024011  2014      8   13               29                   0.0   \n",
       "6680     8.881836  2014      7   11               49                  30.0   \n",
       "6999     8.294050  2014      6   25              102                  72.0   \n",
       "...           ...   ...    ...  ...              ...                   ...   \n",
       "13123    9.044286  2014     11   10               28                   0.0   \n",
       "19648    8.260493  2014      7   10                7                   0.0   \n",
       "9845     9.846547  2015      2    6               45                  30.0   \n",
       "10799    8.882531  2015      2    5               77                   0.0   \n",
       "2732     9.305651  2014     11   15               39                  20.0   \n",
       "\n",
       "       price_in_millions  \n",
       "3930             1.38000  \n",
       "8267             0.08200  \n",
       "15607            0.22000  \n",
       "6680             0.36995  \n",
       "6999             0.87000  \n",
       "...                  ...  \n",
       "13123            0.46800  \n",
       "19648            0.27500  \n",
       "9845             0.62900  \n",
       "10799            0.44250  \n",
       "2732             0.70000  \n",
       "\n",
       "[17277 rows x 26 columns]"
      ]
     },
     "execution_count": 46,
     "metadata": {},
     "output_type": "execute_result"
    }
   ],
   "source": [
    "X_train"
   ]
  },
  {
   "cell_type": "code",
   "execution_count": 47,
   "metadata": {
    "ExecuteTime": {
     "end_time": "2020-10-28T03:30:40.012427Z",
     "start_time": "2020-10-28T03:30:39.956459Z"
    }
   },
   "outputs": [
    {
     "data": {
      "text/html": [
       "<div>\n",
       "<style scoped>\n",
       "    .dataframe tbody tr th:only-of-type {\n",
       "        vertical-align: middle;\n",
       "    }\n",
       "\n",
       "    .dataframe tbody tr th {\n",
       "        vertical-align: top;\n",
       "    }\n",
       "\n",
       "    .dataframe thead th {\n",
       "        text-align: right;\n",
       "    }\n",
       "</style>\n",
       "<table border=\"1\" class=\"dataframe\">\n",
       "  <thead>\n",
       "    <tr style=\"text-align: right;\">\n",
       "      <th></th>\n",
       "      <th>id</th>\n",
       "      <th>price</th>\n",
       "      <th>bedrooms</th>\n",
       "      <th>bathrooms</th>\n",
       "      <th>sqft_living</th>\n",
       "      <th>sqft_lot</th>\n",
       "      <th>floors</th>\n",
       "      <th>waterfront</th>\n",
       "      <th>view</th>\n",
       "      <th>condition</th>\n",
       "      <th>grade</th>\n",
       "      <th>sqft_above</th>\n",
       "      <th>sqft_basement</th>\n",
       "      <th>yr_built</th>\n",
       "      <th>yr_renovated</th>\n",
       "      <th>zipcode</th>\n",
       "      <th>lat</th>\n",
       "      <th>long</th>\n",
       "      <th>sqft_living15</th>\n",
       "      <th>sqft_lot15</th>\n",
       "      <th>year</th>\n",
       "      <th>month</th>\n",
       "      <th>day</th>\n",
       "      <th>yr_age_of_house</th>\n",
       "      <th>yr_age_of_renovation</th>\n",
       "      <th>price_in_millions</th>\n",
       "    </tr>\n",
       "  </thead>\n",
       "  <tbody>\n",
       "    <tr>\n",
       "      <td>156</td>\n",
       "      <td>6388930390</td>\n",
       "      <td>13.384728</td>\n",
       "      <td>5</td>\n",
       "      <td>3.50</td>\n",
       "      <td>8.283999</td>\n",
       "      <td>10.136383</td>\n",
       "      <td>2.0</td>\n",
       "      <td>0.0</td>\n",
       "      <td>0.0</td>\n",
       "      <td>3</td>\n",
       "      <td>9</td>\n",
       "      <td>7.824046</td>\n",
       "      <td>1460.0</td>\n",
       "      <td>1996</td>\n",
       "      <td>1967.0</td>\n",
       "      <td>98056</td>\n",
       "      <td>47.5250</td>\n",
       "      <td>-122.172</td>\n",
       "      <td>7.878534</td>\n",
       "      <td>9.523325</td>\n",
       "      <td>2014</td>\n",
       "      <td>11</td>\n",
       "      <td>20</td>\n",
       "      <td>18</td>\n",
       "      <td>0.0</td>\n",
       "      <td>0.65000</td>\n",
       "    </tr>\n",
       "    <tr>\n",
       "      <td>15572</td>\n",
       "      <td>2128000050</td>\n",
       "      <td>13.345507</td>\n",
       "      <td>4</td>\n",
       "      <td>2.25</td>\n",
       "      <td>7.635304</td>\n",
       "      <td>8.881836</td>\n",
       "      <td>1.0</td>\n",
       "      <td>0.0</td>\n",
       "      <td>0.0</td>\n",
       "      <td>5</td>\n",
       "      <td>8</td>\n",
       "      <td>7.237059</td>\n",
       "      <td>680.0</td>\n",
       "      <td>1977</td>\n",
       "      <td>1990.0</td>\n",
       "      <td>98033</td>\n",
       "      <td>47.6970</td>\n",
       "      <td>-122.169</td>\n",
       "      <td>7.654443</td>\n",
       "      <td>9.035987</td>\n",
       "      <td>2014</td>\n",
       "      <td>8</td>\n",
       "      <td>15</td>\n",
       "      <td>37</td>\n",
       "      <td>13.0</td>\n",
       "      <td>0.62500</td>\n",
       "    </tr>\n",
       "    <tr>\n",
       "      <td>2080</td>\n",
       "      <td>4401200350</td>\n",
       "      <td>13.620104</td>\n",
       "      <td>3</td>\n",
       "      <td>2.50</td>\n",
       "      <td>8.035926</td>\n",
       "      <td>8.950014</td>\n",
       "      <td>2.0</td>\n",
       "      <td>0.0</td>\n",
       "      <td>0.0</td>\n",
       "      <td>3</td>\n",
       "      <td>10</td>\n",
       "      <td>8.035926</td>\n",
       "      <td>0.0</td>\n",
       "      <td>1999</td>\n",
       "      <td>1975.0</td>\n",
       "      <td>98052</td>\n",
       "      <td>47.6868</td>\n",
       "      <td>-122.108</td>\n",
       "      <td>8.051978</td>\n",
       "      <td>9.058587</td>\n",
       "      <td>2015</td>\n",
       "      <td>2</td>\n",
       "      <td>10</td>\n",
       "      <td>16</td>\n",
       "      <td>0.0</td>\n",
       "      <td>0.82250</td>\n",
       "    </tr>\n",
       "    <tr>\n",
       "      <td>17522</td>\n",
       "      <td>3356402232</td>\n",
       "      <td>12.100156</td>\n",
       "      <td>3</td>\n",
       "      <td>1.75</td>\n",
       "      <td>7.114769</td>\n",
       "      <td>9.392662</td>\n",
       "      <td>1.0</td>\n",
       "      <td>0.0</td>\n",
       "      <td>0.0</td>\n",
       "      <td>3</td>\n",
       "      <td>6</td>\n",
       "      <td>7.114769</td>\n",
       "      <td>0.0</td>\n",
       "      <td>1970</td>\n",
       "      <td>2003.0</td>\n",
       "      <td>98001</td>\n",
       "      <td>47.2878</td>\n",
       "      <td>-122.251</td>\n",
       "      <td>7.346010</td>\n",
       "      <td>9.392662</td>\n",
       "      <td>2014</td>\n",
       "      <td>9</td>\n",
       "      <td>24</td>\n",
       "      <td>44</td>\n",
       "      <td>33.0</td>\n",
       "      <td>0.17990</td>\n",
       "    </tr>\n",
       "    <tr>\n",
       "      <td>8360</td>\n",
       "      <td>2212600100</td>\n",
       "      <td>12.821258</td>\n",
       "      <td>4</td>\n",
       "      <td>2.75</td>\n",
       "      <td>8.055158</td>\n",
       "      <td>11.120150</td>\n",
       "      <td>1.0</td>\n",
       "      <td>0.0</td>\n",
       "      <td>0.0</td>\n",
       "      <td>4</td>\n",
       "      <td>9</td>\n",
       "      <td>7.718685</td>\n",
       "      <td>900.0</td>\n",
       "      <td>1965</td>\n",
       "      <td>1954.0</td>\n",
       "      <td>98092</td>\n",
       "      <td>47.3382</td>\n",
       "      <td>-122.196</td>\n",
       "      <td>7.700748</td>\n",
       "      <td>10.385636</td>\n",
       "      <td>2014</td>\n",
       "      <td>5</td>\n",
       "      <td>22</td>\n",
       "      <td>49</td>\n",
       "      <td>0.0</td>\n",
       "      <td>0.37000</td>\n",
       "    </tr>\n",
       "    <tr>\n",
       "      <td>...</td>\n",
       "      <td>...</td>\n",
       "      <td>...</td>\n",
       "      <td>...</td>\n",
       "      <td>...</td>\n",
       "      <td>...</td>\n",
       "      <td>...</td>\n",
       "      <td>...</td>\n",
       "      <td>...</td>\n",
       "      <td>...</td>\n",
       "      <td>...</td>\n",
       "      <td>...</td>\n",
       "      <td>...</td>\n",
       "      <td>...</td>\n",
       "      <td>...</td>\n",
       "      <td>...</td>\n",
       "      <td>...</td>\n",
       "      <td>...</td>\n",
       "      <td>...</td>\n",
       "      <td>...</td>\n",
       "      <td>...</td>\n",
       "      <td>...</td>\n",
       "      <td>...</td>\n",
       "      <td>...</td>\n",
       "      <td>...</td>\n",
       "      <td>...</td>\n",
       "      <td>...</td>\n",
       "    </tr>\n",
       "    <tr>\n",
       "      <td>16922</td>\n",
       "      <td>1761600050</td>\n",
       "      <td>12.891692</td>\n",
       "      <td>3</td>\n",
       "      <td>2.00</td>\n",
       "      <td>7.003065</td>\n",
       "      <td>9.123147</td>\n",
       "      <td>1.0</td>\n",
       "      <td>0.0</td>\n",
       "      <td>0.0</td>\n",
       "      <td>4</td>\n",
       "      <td>7</td>\n",
       "      <td>7.003065</td>\n",
       "      <td>0.0</td>\n",
       "      <td>1969</td>\n",
       "      <td>1994.0</td>\n",
       "      <td>98034</td>\n",
       "      <td>47.7304</td>\n",
       "      <td>-122.231</td>\n",
       "      <td>7.319865</td>\n",
       "      <td>9.047821</td>\n",
       "      <td>2014</td>\n",
       "      <td>12</td>\n",
       "      <td>31</td>\n",
       "      <td>45</td>\n",
       "      <td>25.0</td>\n",
       "      <td>0.39700</td>\n",
       "    </tr>\n",
       "    <tr>\n",
       "      <td>12225</td>\n",
       "      <td>3575200030</td>\n",
       "      <td>13.215854</td>\n",
       "      <td>4</td>\n",
       "      <td>2.25</td>\n",
       "      <td>7.791523</td>\n",
       "      <td>10.998761</td>\n",
       "      <td>1.0</td>\n",
       "      <td>0.0</td>\n",
       "      <td>0.0</td>\n",
       "      <td>4</td>\n",
       "      <td>8</td>\n",
       "      <td>7.207860</td>\n",
       "      <td>1070.0</td>\n",
       "      <td>1985</td>\n",
       "      <td>1929.0</td>\n",
       "      <td>98074</td>\n",
       "      <td>47.6206</td>\n",
       "      <td>-122.056</td>\n",
       "      <td>7.677864</td>\n",
       "      <td>9.775541</td>\n",
       "      <td>2014</td>\n",
       "      <td>7</td>\n",
       "      <td>29</td>\n",
       "      <td>29</td>\n",
       "      <td>0.0</td>\n",
       "      <td>0.54900</td>\n",
       "    </tr>\n",
       "    <tr>\n",
       "      <td>10452</td>\n",
       "      <td>936000055</td>\n",
       "      <td>13.160622</td>\n",
       "      <td>3</td>\n",
       "      <td>3.00</td>\n",
       "      <td>7.779049</td>\n",
       "      <td>9.875808</td>\n",
       "      <td>1.5</td>\n",
       "      <td>0.0</td>\n",
       "      <td>0.0</td>\n",
       "      <td>3</td>\n",
       "      <td>8</td>\n",
       "      <td>7.779049</td>\n",
       "      <td>0.0</td>\n",
       "      <td>2008</td>\n",
       "      <td>1977.0</td>\n",
       "      <td>98166</td>\n",
       "      <td>47.4545</td>\n",
       "      <td>-122.336</td>\n",
       "      <td>7.339538</td>\n",
       "      <td>10.202814</td>\n",
       "      <td>2014</td>\n",
       "      <td>11</td>\n",
       "      <td>19</td>\n",
       "      <td>6</td>\n",
       "      <td>0.0</td>\n",
       "      <td>0.51950</td>\n",
       "    </tr>\n",
       "    <tr>\n",
       "      <td>12354</td>\n",
       "      <td>587550340</td>\n",
       "      <td>13.311329</td>\n",
       "      <td>3</td>\n",
       "      <td>2.50</td>\n",
       "      <td>8.083329</td>\n",
       "      <td>10.408828</td>\n",
       "      <td>2.0</td>\n",
       "      <td>0.0</td>\n",
       "      <td>2.0</td>\n",
       "      <td>3</td>\n",
       "      <td>10</td>\n",
       "      <td>8.083329</td>\n",
       "      <td>0.0</td>\n",
       "      <td>1995</td>\n",
       "      <td>1986.0</td>\n",
       "      <td>98023</td>\n",
       "      <td>47.3256</td>\n",
       "      <td>-122.378</td>\n",
       "      <td>8.306472</td>\n",
       "      <td>10.125310</td>\n",
       "      <td>2014</td>\n",
       "      <td>5</td>\n",
       "      <td>2</td>\n",
       "      <td>19</td>\n",
       "      <td>0.0</td>\n",
       "      <td>0.60400</td>\n",
       "    </tr>\n",
       "    <tr>\n",
       "      <td>15970</td>\n",
       "      <td>8088600080</td>\n",
       "      <td>12.524345</td>\n",
       "      <td>3</td>\n",
       "      <td>1.00</td>\n",
       "      <td>7.279319</td>\n",
       "      <td>9.084777</td>\n",
       "      <td>1.0</td>\n",
       "      <td>0.0</td>\n",
       "      <td>0.0</td>\n",
       "      <td>3</td>\n",
       "      <td>6</td>\n",
       "      <td>6.956545</td>\n",
       "      <td>400.0</td>\n",
       "      <td>1958</td>\n",
       "      <td>1920.0</td>\n",
       "      <td>98168</td>\n",
       "      <td>47.4698</td>\n",
       "      <td>-122.264</td>\n",
       "      <td>7.319865</td>\n",
       "      <td>9.084777</td>\n",
       "      <td>2014</td>\n",
       "      <td>6</td>\n",
       "      <td>2</td>\n",
       "      <td>56</td>\n",
       "      <td>0.0</td>\n",
       "      <td>0.27495</td>\n",
       "    </tr>\n",
       "  </tbody>\n",
       "</table>\n",
       "<p>4320 rows × 26 columns</p>\n",
       "</div>"
      ],
      "text/plain": [
       "               id      price  bedrooms  bathrooms  sqft_living   sqft_lot  \\\n",
       "156    6388930390  13.384728         5       3.50     8.283999  10.136383   \n",
       "15572  2128000050  13.345507         4       2.25     7.635304   8.881836   \n",
       "2080   4401200350  13.620104         3       2.50     8.035926   8.950014   \n",
       "17522  3356402232  12.100156         3       1.75     7.114769   9.392662   \n",
       "8360   2212600100  12.821258         4       2.75     8.055158  11.120150   \n",
       "...           ...        ...       ...        ...          ...        ...   \n",
       "16922  1761600050  12.891692         3       2.00     7.003065   9.123147   \n",
       "12225  3575200030  13.215854         4       2.25     7.791523  10.998761   \n",
       "10452   936000055  13.160622         3       3.00     7.779049   9.875808   \n",
       "12354   587550340  13.311329         3       2.50     8.083329  10.408828   \n",
       "15970  8088600080  12.524345         3       1.00     7.279319   9.084777   \n",
       "\n",
       "       floors  waterfront  view  condition  grade  sqft_above  sqft_basement  \\\n",
       "156       2.0         0.0   0.0          3      9    7.824046         1460.0   \n",
       "15572     1.0         0.0   0.0          5      8    7.237059          680.0   \n",
       "2080      2.0         0.0   0.0          3     10    8.035926            0.0   \n",
       "17522     1.0         0.0   0.0          3      6    7.114769            0.0   \n",
       "8360      1.0         0.0   0.0          4      9    7.718685          900.0   \n",
       "...       ...         ...   ...        ...    ...         ...            ...   \n",
       "16922     1.0         0.0   0.0          4      7    7.003065            0.0   \n",
       "12225     1.0         0.0   0.0          4      8    7.207860         1070.0   \n",
       "10452     1.5         0.0   0.0          3      8    7.779049            0.0   \n",
       "12354     2.0         0.0   2.0          3     10    8.083329            0.0   \n",
       "15970     1.0         0.0   0.0          3      6    6.956545          400.0   \n",
       "\n",
       "       yr_built  yr_renovated  zipcode      lat     long  sqft_living15  \\\n",
       "156        1996        1967.0    98056  47.5250 -122.172       7.878534   \n",
       "15572      1977        1990.0    98033  47.6970 -122.169       7.654443   \n",
       "2080       1999        1975.0    98052  47.6868 -122.108       8.051978   \n",
       "17522      1970        2003.0    98001  47.2878 -122.251       7.346010   \n",
       "8360       1965        1954.0    98092  47.3382 -122.196       7.700748   \n",
       "...         ...           ...      ...      ...      ...            ...   \n",
       "16922      1969        1994.0    98034  47.7304 -122.231       7.319865   \n",
       "12225      1985        1929.0    98074  47.6206 -122.056       7.677864   \n",
       "10452      2008        1977.0    98166  47.4545 -122.336       7.339538   \n",
       "12354      1995        1986.0    98023  47.3256 -122.378       8.306472   \n",
       "15970      1958        1920.0    98168  47.4698 -122.264       7.319865   \n",
       "\n",
       "       sqft_lot15  year  month  day  yr_age_of_house  yr_age_of_renovation  \\\n",
       "156      9.523325  2014     11   20               18                   0.0   \n",
       "15572    9.035987  2014      8   15               37                  13.0   \n",
       "2080     9.058587  2015      2   10               16                   0.0   \n",
       "17522    9.392662  2014      9   24               44                  33.0   \n",
       "8360    10.385636  2014      5   22               49                   0.0   \n",
       "...           ...   ...    ...  ...              ...                   ...   \n",
       "16922    9.047821  2014     12   31               45                  25.0   \n",
       "12225    9.775541  2014      7   29               29                   0.0   \n",
       "10452   10.202814  2014     11   19                6                   0.0   \n",
       "12354   10.125310  2014      5    2               19                   0.0   \n",
       "15970    9.084777  2014      6    2               56                   0.0   \n",
       "\n",
       "       price_in_millions  \n",
       "156              0.65000  \n",
       "15572            0.62500  \n",
       "2080             0.82250  \n",
       "17522            0.17990  \n",
       "8360             0.37000  \n",
       "...                  ...  \n",
       "16922            0.39700  \n",
       "12225            0.54900  \n",
       "10452            0.51950  \n",
       "12354            0.60400  \n",
       "15970            0.27495  \n",
       "\n",
       "[4320 rows x 26 columns]"
      ]
     },
     "execution_count": 47,
     "metadata": {},
     "output_type": "execute_result"
    }
   ],
   "source": [
    "X_test"
   ]
  },
  {
   "cell_type": "markdown",
   "metadata": {},
   "source": [
    "#### Feature Selection "
   ]
  },
  {
   "cell_type": "code",
   "execution_count": 48,
   "metadata": {
    "ExecuteTime": {
     "end_time": "2020-10-28T03:30:40.070210Z",
     "start_time": "2020-10-28T03:30:40.014434Z"
    }
   },
   "outputs": [],
   "source": [
    "from sklearn.linear_model import Lasso\n",
    "from sklearn.feature_selection import SelectFromModel "
   ]
  },
  {
   "cell_type": "markdown",
   "metadata": {},
   "source": [
    "#### Making price as dependent variable on y_train as dropping it from X_train"
   ]
  },
  {
   "cell_type": "code",
   "execution_count": 49,
   "metadata": {
    "ExecuteTime": {
     "end_time": "2020-10-28T03:30:56.987609Z",
     "start_time": "2020-10-28T03:30:56.982611Z"
    }
   },
   "outputs": [],
   "source": [
    "y_train=kcfe1[['price']] "
   ]
  },
  {
   "cell_type": "code",
   "execution_count": 50,
   "metadata": {
    "ExecuteTime": {
     "end_time": "2020-10-28T03:31:00.092816Z",
     "start_time": "2020-10-28T03:31:00.083822Z"
    }
   },
   "outputs": [],
   "source": [
    "X_train = kcfe1.drop(['price'],axis=1) "
   ]
  },
  {
   "cell_type": "code",
   "execution_count": 87,
   "metadata": {
    "ExecuteTime": {
     "end_time": "2020-10-28T03:27:24.470534Z",
     "start_time": "2020-10-28T03:27:24.343216Z"
    }
   },
   "outputs": [],
   "source": [
    "# X_test = kcfe1.drop(['price'],axis=1) "
   ]
  },
  {
   "cell_type": "markdown",
   "metadata": {},
   "source": [
    "##### Setting alpha at 0.005 for shortlisting features to focus"
   ]
  },
  {
   "cell_type": "code",
   "execution_count": 51,
   "metadata": {
    "ExecuteTime": {
     "end_time": "2020-10-28T03:31:05.921292Z",
     "start_time": "2020-10-28T03:31:05.838361Z"
    }
   },
   "outputs": [
    {
     "data": {
      "text/plain": [
       "SelectFromModel(estimator=Lasso(alpha=0.005, copy_X=True, fit_intercept=True,\n",
       "                                max_iter=1000, normalize=False, positive=False,\n",
       "                                precompute=False, random_state=0,\n",
       "                                selection='cyclic', tol=0.0001,\n",
       "                                warm_start=False),\n",
       "                max_features=None, norm_order=1, prefit=False, threshold=None)"
      ]
     },
     "execution_count": 51,
     "metadata": {},
     "output_type": "execute_result"
    }
   ],
   "source": [
    "feature_sel_model = SelectFromModel(Lasso(alpha=0.005,random_state=0)) \n",
    "feature_sel_model.fit(X_train,y_train) "
   ]
  },
  {
   "cell_type": "code",
   "execution_count": 52,
   "metadata": {
    "ExecuteTime": {
     "end_time": "2020-10-28T03:31:08.870817Z",
     "start_time": "2020-10-28T03:31:08.864818Z"
    }
   },
   "outputs": [
    {
     "data": {
      "text/plain": [
       "array([False, False, False,  True, False,  True, False,  True,  True,\n",
       "        True, False, False,  True, False, False,  True, False,  True,\n",
       "       False,  True, False, False,  True,  True,  True])"
      ]
     },
     "execution_count": 52,
     "metadata": {},
     "output_type": "execute_result"
    }
   ],
   "source": [
    "feature_sel_model.get_support() "
   ]
  },
  {
   "cell_type": "code",
   "execution_count": 53,
   "metadata": {
    "ExecuteTime": {
     "end_time": "2020-10-28T03:31:15.739405Z",
     "start_time": "2020-10-28T03:31:15.732411Z"
    }
   },
   "outputs": [
    {
     "name": "stdout",
     "output_type": "stream",
     "text": [
      "total features: 25\n",
      "selected_features: 12\n",
      "features with coefficient reduced to zero: 12\n"
     ]
    }
   ],
   "source": [
    "selected_feat = X_train.columns[(feature_sel_model.get_support())]\n",
    "print('total features: {}'.format((X_train.shape[1]))) \n",
    "print('selected_features: {}'.format(len(selected_feat))) \n",
    "print('features with coefficient reduced to zero: {}'.format(np.sum(feature_sel_model.estimator_.coef_ == 0))) "
   ]
  },
  {
   "cell_type": "code",
   "execution_count": 54,
   "metadata": {
    "ExecuteTime": {
     "end_time": "2020-10-28T03:31:19.501232Z",
     "start_time": "2020-10-28T03:31:19.494254Z"
    }
   },
   "outputs": [
    {
     "data": {
      "text/plain": [
       "Index(['sqft_living', 'floors', 'view', 'condition', 'grade', 'yr_built',\n",
       "       'lat', 'sqft_living15', 'year', 'yr_age_of_house',\n",
       "       'yr_age_of_renovation', 'price_in_millions'],\n",
       "      dtype='object')"
      ]
     },
     "execution_count": 54,
     "metadata": {},
     "output_type": "execute_result"
    }
   ],
   "source": [
    "selected_feat "
   ]
  },
  {
   "cell_type": "markdown",
   "metadata": {},
   "source": [
    "#### Continuing the process for test data to confirm "
   ]
  },
  {
   "cell_type": "code",
   "execution_count": 55,
   "metadata": {
    "ExecuteTime": {
     "end_time": "2020-10-28T03:31:24.540415Z",
     "start_time": "2020-10-28T03:31:24.535418Z"
    }
   },
   "outputs": [],
   "source": [
    "y_test=kcfe1[['price']] "
   ]
  },
  {
   "cell_type": "code",
   "execution_count": 56,
   "metadata": {
    "ExecuteTime": {
     "end_time": "2020-10-28T03:31:30.797542Z",
     "start_time": "2020-10-28T03:31:30.789547Z"
    }
   },
   "outputs": [],
   "source": [
    "X_test = kcfe1.drop(['price'],axis=1) "
   ]
  },
  {
   "cell_type": "code",
   "execution_count": 94,
   "metadata": {
    "ExecuteTime": {
     "end_time": "2020-10-28T03:27:25.375850Z",
     "start_time": "2020-10-28T03:27:25.290462Z"
    }
   },
   "outputs": [],
   "source": [
    "# X_test = kcfe1.drop(['price'],axis=1) "
   ]
  },
  {
   "cell_type": "code",
   "execution_count": 57,
   "metadata": {
    "ExecuteTime": {
     "end_time": "2020-10-28T03:31:36.345424Z",
     "start_time": "2020-10-28T03:31:36.271470Z"
    }
   },
   "outputs": [
    {
     "data": {
      "text/plain": [
       "SelectFromModel(estimator=Lasso(alpha=0.005, copy_X=True, fit_intercept=True,\n",
       "                                max_iter=1000, normalize=False, positive=False,\n",
       "                                precompute=False, random_state=0,\n",
       "                                selection='cyclic', tol=0.0001,\n",
       "                                warm_start=False),\n",
       "                max_features=None, norm_order=1, prefit=False, threshold=None)"
      ]
     },
     "execution_count": 57,
     "metadata": {},
     "output_type": "execute_result"
    }
   ],
   "source": [
    "feature_sel_model = SelectFromModel(Lasso(alpha=0.005,random_state=0)) \n",
    "feature_sel_model.fit(X_test,y_test) "
   ]
  },
  {
   "cell_type": "code",
   "execution_count": 58,
   "metadata": {
    "ExecuteTime": {
     "end_time": "2020-10-28T03:31:39.530761Z",
     "start_time": "2020-10-28T03:31:39.524766Z"
    }
   },
   "outputs": [
    {
     "data": {
      "text/plain": [
       "array([False, False, False,  True, False,  True, False,  True,  True,\n",
       "        True, False, False,  True, False, False,  True, False,  True,\n",
       "       False,  True, False, False,  True,  True,  True])"
      ]
     },
     "execution_count": 58,
     "metadata": {},
     "output_type": "execute_result"
    }
   ],
   "source": [
    "feature_sel_model.get_support() "
   ]
  },
  {
   "cell_type": "code",
   "execution_count": 59,
   "metadata": {
    "ExecuteTime": {
     "end_time": "2020-10-28T03:31:46.394274Z",
     "start_time": "2020-10-28T03:31:46.387280Z"
    }
   },
   "outputs": [
    {
     "name": "stdout",
     "output_type": "stream",
     "text": [
      "total features: 25\n",
      "selected_features: 12\n",
      "features with coefficient reduced to zero: 12\n"
     ]
    }
   ],
   "source": [
    "selected_feat = X_test.columns[(feature_sel_model.get_support())]\n",
    "print('total features: {}'.format((X_test.shape[1]))) \n",
    "print('selected_features: {}'.format(len(selected_feat))) \n",
    "print('features with coefficient reduced to zero: {}'.format(np.sum(feature_sel_model.estimator_.coef_ == 0))) "
   ]
  },
  {
   "cell_type": "code",
   "execution_count": 60,
   "metadata": {
    "ExecuteTime": {
     "end_time": "2020-10-28T03:31:49.781720Z",
     "start_time": "2020-10-28T03:31:49.774725Z"
    }
   },
   "outputs": [
    {
     "data": {
      "text/plain": [
       "Index(['sqft_living', 'floors', 'view', 'condition', 'grade', 'yr_built',\n",
       "       'lat', 'sqft_living15', 'year', 'yr_age_of_house',\n",
       "       'yr_age_of_renovation', 'price_in_millions'],\n",
       "      dtype='object')"
      ]
     },
     "execution_count": 60,
     "metadata": {},
     "output_type": "execute_result"
    }
   ],
   "source": [
    "selected_feat "
   ]
  },
  {
   "cell_type": "code",
   "execution_count": null,
   "metadata": {},
   "outputs": [],
   "source": []
  }
 ],
 "metadata": {
  "kernelspec": {
   "display_name": "Python 3",
   "language": "python",
   "name": "python3"
  },
  "language_info": {
   "codemirror_mode": {
    "name": "ipython",
    "version": 3
   },
   "file_extension": ".py",
   "mimetype": "text/x-python",
   "name": "python",
   "nbconvert_exporter": "python",
   "pygments_lexer": "ipython3",
   "version": "3.6.9"
  },
  "toc": {
   "base_numbering": 1,
   "nav_menu": {},
   "number_sections": false,
   "sideBar": true,
   "skip_h1_title": false,
   "title_cell": "Table of Contents",
   "title_sidebar": "Contents",
   "toc_cell": false,
   "toc_position": {},
   "toc_section_display": true,
   "toc_window_display": true
  },
  "varInspector": {
   "cols": {
    "lenName": 16,
    "lenType": 16,
    "lenVar": 40
   },
   "kernels_config": {
    "python": {
     "delete_cmd_postfix": "",
     "delete_cmd_prefix": "del ",
     "library": "var_list.py",
     "varRefreshCmd": "print(var_dic_list())"
    },
    "r": {
     "delete_cmd_postfix": ") ",
     "delete_cmd_prefix": "rm(",
     "library": "var_list.r",
     "varRefreshCmd": "cat(var_dic_list()) "
    }
   },
   "types_to_exclude": [
    "module",
    "function",
    "builtin_function_or_method",
    "instance",
    "_Feature"
   ],
   "window_display": false
  }
 },
 "nbformat": 4,
 "nbformat_minor": 2
}
